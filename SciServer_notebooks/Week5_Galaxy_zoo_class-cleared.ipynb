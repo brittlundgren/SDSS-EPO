{
 "cells": [
  {
   "cell_type": "markdown",
   "metadata": {},
   "source": [
    "# ASTR 412 - Week 8:  \"Building a Sample for Citizen Science\"\n",
    "\n",
    "In today's class, we will walk through the basic steps required to select a sample of galaxies from the SDSS, save their images to your SciDrive, and upload them into your own unique citizen science project on [Zooniverse](http://zooniverse.org).  We will then build a basic project to enable your friends and family to help contribute to answering a science question of your determination.\n",
    "\n"
   ]
  },
  {
   "cell_type": "markdown",
   "metadata": {
    "collapsed": true
   },
   "source": [
    "## I. Importing SciServer and other important libraries\n",
    "The SciServer team has written a number of libraries, generally prefixed with \"SciServer\", that assist in various functions. As with all Python libraries, they must be actively imported before being used.\n",
    "The next code block imports those, together with some standard Python libraries helpful for scientific analysis. The code block below applies some settings you may find helpful."
   ]
  },
  {
   "cell_type": "code",
   "execution_count": null,
   "metadata": {
    "collapsed": false
   },
   "outputs": [],
   "source": [
    "# Import Python libraries to work with SciServer\n",
    "import SciServer.CasJobs as CasJobs # query with CasJobs\n",
    "import SciServer.SciDrive as SciDrive   # read/write to/from SciDrive\n",
    "import SciServer.SkyServer as SkyServer   # show individual objects and generate thumbnail images through SkyServer\n",
    "print('SciServer libraries imported')"
   ]
  },
  {
   "cell_type": "code",
   "execution_count": null,
   "metadata": {
    "collapsed": false
   },
   "outputs": [],
   "source": [
    "# Import other libraries for use in this notebook.\n",
    "import numpy as np                  # standard Python lib for math ops\n",
    "from scipy.misc import imsave       # save images as files\n",
    "import pandas                       # data manipulation package\n",
    "import matplotlib.pyplot as plt     # another graphing package\n",
    "import os                           # manage local files in your Compute containers\n",
    "print('Supporting libraries imported')\n",
    "\n",
    "# Apply some special settings to the imported libraries\n",
    "# ensure columns get written completely in notebook\n",
    "pandas.set_option('display.max_colwidth', -1)\n",
    "# do *not* show python warnings \n",
    "import warnings\n",
    "warnings.filterwarnings('ignore')\n",
    "print('Settings applied')"
   ]
  },
  {
   "cell_type": "markdown",
   "metadata": {},
   "source": [
    "## II. Querying an astronomy database (SDSS DR14)\n",
    "The next code block searches the SDSS Data Release 14 database via the CasJobs REST API. The query completes quickly, so it uses CasJobs quick mode.\n",
    "CasJobs also has an asynchronous mode, which will submit job to a queue and will store the results in a table in your MyDB. If your results are very large, it will store the results in MyScratchDB instead.\n",
    "Run the code block below to query DR14. Try changing some of the query parameters in step to see the effect on the results returned.\n",
    "Documentation on the SciServer Python libraries can be found at our documentation site at:\n",
    "http://www.sciserver.org/docs\n",
    "make example with batch query mode.\n",
    "\n",
    "An extensive tutorial on how to query the SDSS database can be found here:\n",
    "http://skyserver.sdss.org/dr14/en/help/howto/search/searchhowtohome.aspx"
   ]
  },
  {
   "cell_type": "code",
   "execution_count": null,
   "metadata": {
    "collapsed": false
   },
   "outputs": [],
   "source": [
    "# Find objects in the Sloan Digital Sky Survey's Data Release 14.\n",
    "#\n",
    "# Query the Sloan Digital Sky Serveys' Data Release 14.\n",
    "# For the database schema and documentation see http://skyserver.sdss.org/dr14\n",
    "#\n",
    "# This query finds \"a 4x4 grid of nice-looking galaxies\": \n",
    "#   galaxies in the SDSS database that have a spectrum \n",
    "#   and have a size (petror90_r) larger than 10 arcsec.\n",
    "# \n",
    "# First, store the query in an object called \"query\"\n",
    "query=\"\"\"\n",
    "SELECT TOP 16 p.objId,p.ra,p.dec,p.petror90_r, p.g, p.r\n",
    "  FROM galaxy AS p\n",
    "   JOIN SpecObj AS s ON s.bestobjid = p.objid\n",
    "WHERE p.u BETWEEN 0 AND 19.6\n",
    "  AND p.g BETWEEN 0 AND 17  AND p.petror90_r > 10\n",
    "\"\"\"\n",
    "gals = CasJobs.executeQuery(query, \"dr14\")\n",
    "gals = gals.set_index('objId')\n",
    "gals"
   ]
  },
  {
   "cell_type": "markdown",
   "metadata": {},
   "source": [
    "#### EXPERIMENT:  What happens if you change the query?\n",
    "\n",
    "Try changing the query in the following ways: \n",
    "- Return 8 matching objects insetad of 16.\n",
    "- Select only nearby galaxies (redshift < 0.05).\n",
    "- Select only galaxies likely to be spirals (with u-r color >= 2.22)\n",
    "- Search for galaxies in SDSS Data Release 10 instead of DR14.\n",
    "\n",
    "What changes do you notice in the table of returned results?\n",
    "\n",
    "Try it in the code block below:"
   ]
  },
  {
   "cell_type": "code",
   "execution_count": null,
   "metadata": {
    "collapsed": false
   },
   "outputs": [],
   "source": [
    "# Find objects in the Sloan Digital Sky Survey's Data Release 14.\n",
    "# First, store the query in an object called \"query\"\n",
    "query=\"\"\"\n",
    "SELECT TOP 16 p.objId,p.ra,p.dec,p.petror90_r, p.g, p.r\n",
    "  FROM galaxy AS p\n",
    "   JOIN SpecObj AS s ON s.bestobjid = p.objid\n",
    "WHERE p.u BETWEEN 0 AND 19.6\n",
    "  AND p.g BETWEEN 0 AND 17\n",
    "  AND p.petror90_r > 10\n",
    "\"\"\"\n",
    "gals = CasJobs.executeQuery(query, \"dr14\")\n",
    "gals = gals.set_index('objId')\n",
    "gals"
   ]
  },
  {
   "cell_type": "markdown",
   "metadata": {},
   "source": [
    "# III. Visualizing the Data\n",
    "Now that we have run the query and stored the results, we can start analyzing the results.\n",
    "\n",
    "Start by making a simple plot of positions, using the default query from the previous code block (select top 16... AND p.petror90_r > 10).\n",
    "\n",
    "What do you see?"
   ]
  },
  {
   "cell_type": "code",
   "execution_count": null,
   "metadata": {
    "collapsed": false
   },
   "outputs": [],
   "source": [
    "# Try making an Ra, Dec scatter plot...\n",
    "\n",
    "plt.scatter(gals['ra'], gals['dec'])\n",
    "plt.show() "
   ]
  },
  {
   "cell_type": "markdown",
   "metadata": {},
   "source": [
    "#### EXPERIMENT: How can you improve the graph?\n",
    "\n",
    "The graph you just made visualizes your data in the simplets possible way: as a scatterplot of (ra/dec) positions with default graphing parameters. But you could make many other possible graphs, and you can always add labels, change axis scales, or adjust many other features of graphs. You practiced making some of these display changes in the sections above. Full details on all the possible graph options are described in the online documentation for the pyplot module at http://matplotlib.org/api/pyplot_summary.html.\n",
    "\n",
    "\n",
    "Try changing the code block below in the following ways. What changes do you notice in the plot?\n",
    "- Add axis labels\n",
    "- Change the scales of both axes to zoom in on the cluster of points around ra = 250\n",
    "- Increase the font size of the numbers and the axis labels\n",
    "- Add a title above the graph\n",
    "- Plot galaxies out to dec = +/-5 (change the display axes as well)\n",
    "\n",
    "Next, try making some other plots. Add any labels and titles that will help the reader interpret your graphs.\n",
    "- Plot a histogram of the g-band magnitudes\n",
    "- Plot a color-color diagram with g on the x-axis and r on the y-axis\n",
    "- Create graphs with 1,000 objects instead of just 16 (note this will require changing the query above and re-running both blocks)\n",
    "\n",
    "Try it in the code block below:"
   ]
  },
  {
   "cell_type": "code",
   "execution_count": null,
   "metadata": {
    "collapsed": false
   },
   "outputs": [],
   "source": [
    "# make scatterplot\n",
    "#plt.scatter(gals['g'],gals['r'])\n",
    "\n",
    "# create an overall figure object (fig) and an \"axis\" object to display this data (ax)\n",
    "fig, ax = plt.subplots()\n",
    "\n",
    "# This graph is associated with the axis object\n",
    "ax.scatter(gals['ra'], gals['dec'])\n",
    "\n",
    "# Add formatting options here. Some may apply to fig and others to ax.\n",
    "\n",
    "# Show the graph will all the options you set.\n",
    "plt.show()"
   ]
  },
  {
   "cell_type": "markdown",
   "metadata": {},
   "source": [
    "# IV. Store results in your container for later use\n",
    "The next code block saves the data table \"gals\" as an HD5 file and as a CSV file.\n",
    "\n",
    "To see these files, go back to your iPython notebook dashboard (the page from which you opened this notebook). Make sure you are in the persistent folder. You should see your files there. Click on the file names to preview.\n"
   ]
  },
  {
   "cell_type": "code",
   "execution_count": null,
   "metadata": {
    "collapsed": false
   },
   "outputs": [],
   "source": [
    "# store result as HDF5 file \n",
    "h5store = pandas.HDFStore('GalaxyThumbSample.h5')\n",
    "h5store['galaxies']=gals\n",
    "h5store.close()\n",
    "\n",
    "# store result as CSV file\n",
    "gals.to_csv('GalaxyThumbSample.csv')\n",
    "\n",
    "print (\"Done.\")"
   ]
  },
  {
   "cell_type": "markdown",
   "metadata": {},
   "source": [
    "### Experiment: Saving files\n",
    "Using the code block below (a copy of the one above), try the following:\n",
    "\n",
    "- Change the name of the file\n",
    "- Save the file as tab-separated variable (.tsv) instead of the default comma-separated variable (.csv).\n",
    "\n",
    "Documentation on the Pandas package's DataFrame.to_csv method:\n",
    "http://pandas.pydata.org/pandas-docs/stable/generated/pandas.DataFrame.to_csv.html"
   ]
  },
  {
   "cell_type": "code",
   "execution_count": null,
   "metadata": {
    "collapsed": false
   },
   "outputs": [],
   "source": [
    "# store result as HDF5 file \n",
    "h5store = pandas.HDFStore('GalaxyThumbSample.h5')\n",
    "h5store['galaxies']=gals\n",
    "h5store.close()\n",
    "\n",
    "# store result as CSV file\n",
    "gals.to_csv('GalaxyThumbSample.csv')\n",
    "\n",
    "print (\"Done.\")"
   ]
  },
  {
   "cell_type": "markdown",
   "metadata": {},
   "source": [
    "\n",
    "# V. Retrieve thumbnail cutouts of galaxies and show them on screen\n",
    "SkyServer has a service that will produce a color image cutout of certain dimensions around a specified position, displayed as a JPG thumbnail.\n",
    "\n",
    "The code below iterates through each galaxy in your results and calls the image cutout generator for each galaxy. The scale of the image depends on the Petrosian radius of the galaxy."
   ]
  },
  {
   "cell_type": "code",
   "execution_count": null,
   "metadata": {
    "collapsed": false
   },
   "outputs": [],
   "source": [
    "# set thumbnail parameters\n",
    "width=200           # image width\n",
    "height=200          # height\n",
    "pixelsize=0.396     # image scale\n",
    "plt.figure(figsize=(15, 15))   # display in a 4x4 grid\n",
    "subPlotNum = 1\n",
    "\n",
    "i = 0\n",
    "nGalaxies = len(gals)\n",
    "for index,gal in gals.iterrows():           # iterate through rows in the DataFrame\n",
    "    i = i + 1\n",
    "    print('Getting image '+str(i)+' of '+str(nGalaxies)+'...')\n",
    "    if (i == nGalaxies):\n",
    "        print('Plotting images...')\n",
    "    scale=2*gal['petror90_r']/pixelsize/width\n",
    "    img = SkyServer.getJpegImgCutout(ra=gal['ra'], dec=gal['dec'], width=width, height=height, scale=scale,dataRelease='DR14')\n",
    "    plt.subplot(4,4,subPlotNum)\n",
    "    subPlotNum += 1\n",
    "    plt.imshow(img)                               # show images in grid\n",
    "    plt.title(index)                            # show the object identifier (objId) above the image."
   ]
  },
  {
   "cell_type": "markdown",
   "metadata": {},
   "source": [
    "# VI. Write thumbnails to SciDrive\n",
    "SciDrive is the newest component of SciServer. It allows you to save query results as flat files in a Dropbox-like interface you can access anywhere.\n",
    "\n",
    "For boring technical reasons, the version of SciDrive this notebook connects to is not the same as the pre-production version you may have used before. Use the link below to access this test version of SciDrive. You should have no containers in this SciDrive yet.\n",
    "\n",
    "Check your test SciDrive at:\n",
    "https://www.scidrive.org/scidrive/\n",
    "\n",
    "If the above link does not show a proper view of scidrive, with folders etc., please let us know, and do not run the rest of the code in this notebook until we investigate.\n",
    "\n",
    "The three code blocks below work together to write the thumbnails you generated in step 6 into your test SciDrive."
   ]
  },
  {
   "cell_type": "code",
   "execution_count": null,
   "metadata": {
    "collapsed": false
   },
   "outputs": [],
   "source": [
    "# Step 7b: Specify the directory in your SciDrive to hold the thumbnail images\n",
    "mydir = 'week5'\n",
    "\n",
    "# if that directory already exists, delete it before trying to create it again.\n",
    "directories_dict = SciDrive.directoryList()\n",
    "for x in directories_dict['contents']:\n",
    "    if (x['path'][1:] == mydir):\n",
    "        SciDrive.delete(x['path'])     \n",
    "\n",
    "# create that directory in your SciDrive\n",
    "SciDrive.createContainer(mydir)\n",
    "print('Created SciDrive directory: ',mydir,'\\n')\n",
    "\n",
    "\n",
    "# set thumbnail parameters\n",
    "width=200           # image width\n",
    "height=200          # height\n",
    "pixelsize=0.396     # image scale\n",
    "\n",
    "# make a name for your \"manifest\" -- the table that matches your images to known information about the galaxies\n",
    "fout = open(\"galaxy_manifest.csv\", 'w')\n",
    "fout.write(\"index, image, ra, dec \\n\")\n",
    "\n",
    "# Write thumbnails to SciDrive. You will see a confirmation message when each is written\n",
    "i = 0\n",
    "puburls=[]\n",
    "for index,gal in gals.iterrows():   \n",
    "    i = i + 1\n",
    "    print('Writing image file '+str(i)+' of '+str(len(gals))+'...')\n",
    "    scale=2*gal['petror90_r']/pixelsize/width\n",
    "    img = SkyServer.getJpegImgCutout(ra=gal['ra'], dec=gal['dec'], width=width, height=height, scale=scale,dataRelease='DR14')\n",
    "    localname = str(index)+'.jpg'\n",
    "    scidrivename = mydir+\"/\"+localname\n",
    "# Here the file gets uploaded to the container \n",
    "    imsave(localname,img)\n",
    "    SciDrive.upload(scidrivename, localFilePath=localname)\n",
    "    puburls.append(SciDrive.publicUrl(scidrivename))\n",
    "    os.remove(localname)\n",
    "    fout.write('{0:19.0f}, {1:.0f}.jpg, {2:.6f}, {3:.6f}\\n'.format(index,index,gal['ra'],gal['dec']))\n",
    "fout.close()\n",
    "\n",
    "gals['pubURL']=puburls\n",
    "\n",
    "print('\\nWriting manifest...\\n')\n",
    "SciDrive.upload(mydir+'/galaxy_manifest.csv', localFilePath = 'galaxy_manifest.csv')\n",
    "\n",
    "os.remove('galaxy_manifest.csv')\n",
    "print('Done!')"
   ]
  },
  {
   "cell_type": "markdown",
   "metadata": {},
   "source": [
    "# Uploading your data to Zooniverse\n",
    "\n",
    "Your thumbnails will now be collected in your SciDrive.  You can find them and download them locally.  You will also need to download your \"manifest\" (the comma-separated value \".csv\" file that matches your images to the known properties of the galaxies.  This should have been saved in the same same SciDrive directory as your images.  It will make the procedure easier if you download the manifest and thumbnail images into the same local directory, so thta you can upload them to Zooniverse at the same time.\n",
    "\n",
    "If you haven't already, you'll now need to make an account on [Zooniverse](https://www.zooniverse.org/).\n",
    "\n",
    "Once you're signed on to your account, click on \"Build a Project\", and follow along with the [tutorial](https://www.zooniverse.org/help)."
   ]
  },
  {
   "cell_type": "code",
   "execution_count": null,
   "metadata": {
    "collapsed": true
   },
   "outputs": [],
   "source": []
  }
 ],
 "metadata": {
  "kernelspec": {
   "display_name": "Python 3",
   "language": "python",
   "name": "python3"
  },
  "language_info": {
   "codemirror_mode": {
    "name": "ipython",
    "version": 3
   },
   "file_extension": ".py",
   "mimetype": "text/x-python",
   "name": "python",
   "nbconvert_exporter": "python",
   "pygments_lexer": "ipython3",
   "version": "3.5.3"
  }
 },
 "nbformat": 4,
 "nbformat_minor": 0
}
