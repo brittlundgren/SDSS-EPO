{
 "cells": [
  {
   "cell_type": "markdown",
   "metadata": {},
   "source": [
    "# ASTR 412 - Week 3:  \"Data Querying and Visualization\"\n",
    "\n",
    "Today we'll learn how to interface with the SDSS database, and retrieve and visualize data."
   ]
  },
  {
   "cell_type": "markdown",
   "metadata": {},
   "source": [
    "# I. Visualizing Data\n",
    "\n",
    "#### The standard Python library for plotting and visualization is called \"Matplotlib\".  Below are a few examples showing what it can do.  An excellent tutorial can be found here: https://www.labri.fr/perso/nrougier/teaching/matplotlib/\n"
   ]
  },
  {
   "cell_type": "code",
   "execution_count": null,
   "metadata": {
    "collapsed": false
   },
   "outputs": [],
   "source": [
    "# import matplotlib and some of its modules\n",
    "\n",
    "import matplotlib\n",
    "%config InlineBackend.rc = {}\n",
    "from matplotlib import pylab as plt\n",
    "%matplotlib inline\n",
    "print('OK')"
   ]
  },
  {
   "cell_type": "code",
   "execution_count": null,
   "metadata": {
    "collapsed": false
   },
   "outputs": [],
   "source": [
    "\"\"\"\n",
    "Simple demo of a scatter plot.\n",
    "http://matplotlib.org/examples/shapes_and_collections/scatter_demo.html\n",
    "\"\"\"\n",
    "import numpy as np\n",
    "\n",
    "N = 50\n",
    "x = np.random.rand(N)\n",
    "y = np.random.rand(N)\n",
    "colors = np.random.rand(N)\n",
    "area = np.pi * (15 * np.random.rand(N))**2  # 0 to 15 point radii\n",
    "\n",
    "#plt.scatter(x, y, s=area, c=colors, alpha=0.5)\n",
    "plt.scatter(x,y, s = 50,c='cyan', label = 'data')\n",
    "plt.legend()\n",
    "plt.show()"
   ]
  },
  {
   "cell_type": "code",
   "execution_count": null,
   "metadata": {
    "collapsed": false
   },
   "outputs": [],
   "source": [
    "\"\"\"\n",
    "Simple demo of a scatter plot.\n",
    "http://matplotlib.org/examples/lines_bars_and_markers/scatter_with_legend.html\n",
    "\"\"\"\n",
    "\n",
    "import matplotlib.pyplot as plt\n",
    "from numpy.random import rand\n",
    "\n",
    "\n",
    "fig, ax = plt.subplots()\n",
    "for color in ['red', 'green']:\n",
    "    n = 75\n",
    "    x, y, z = rand(3,n)\n",
    "    #x = rand(n)\n",
    "    #y = rand(n)\n",
    "#    print (len(x))\n",
    "    scale = 200.0 * rand(n)\n",
    "    ax.scatter(x, y, c=color, s=scale, label=color,\n",
    "               alpha=0.3, edgecolors='none')\n",
    "\n",
    "ax.legend()\n",
    "ax.grid(True)\n",
    "\n",
    "plt.show()"
   ]
  },
  {
   "cell_type": "code",
   "execution_count": null,
   "metadata": {
    "collapsed": false
   },
   "outputs": [],
   "source": [
    "\"\"\"\n",
    "Simple demo of a histogram.\n",
    "http://matplotlib.org/examples/frontpage/plot_histogram.html\n",
    "\"\"\"\n",
    "\n",
    "# Let's make a random normal (Gaussian) distribution, centered on 0, with a standard deviation of 1\n",
    "mu = 0\n",
    "sigma = 1\n",
    "samplesize = 1000\n",
    "s = np.random.normal(mu,sigma, samplesize)\n",
    "\n",
    "print (\"Sample size: {:.0f}\".format(samplesize))\n",
    "print (\"Mean: {:.2f}\".format(np.mean(s)))\n",
    "print (\"Median: {:.2f}\".format(np.median(s)))\n",
    "\n",
    "## make a histogram of the data\n",
    "#count, bins, ignored = plt.hist(s, 30, normed=True, alpha = 0.5)\n",
    "## overlay a Gaussian model, using the mean and standard deviation (sigma)\n",
    "#plt.plot(bins, 1/(sigma * np.sqrt(2 * np.pi)) * np.exp( - (bins - mu)**2 / (2 * sigma**2) ), linewidth=2, color='r')\n",
    "## display the data\n",
    "#plt.show()\n",
    "\n",
    "plt.hist(s, bins=10, color='blue', normed='True', alpha=0.5)\n",
    "plt.show()"
   ]
  },
  {
   "cell_type": "code",
   "execution_count": null,
   "metadata": {
    "collapsed": false
   },
   "outputs": [],
   "source": [
    "\"\"\"\n",
    "Demo of a simple plot with a custom dashed line.\n",
    "\n",
    "\"\"\"\n",
    "import numpy as np\n",
    "import matplotlib.pyplot as plt\n",
    "\n",
    "x = np.linspace(0, 10, 100)  # makes an array of 100 evenly spaced points between 0 and 10\n",
    "\n",
    "fig, ax = plt.subplots()\n",
    "ax.plot(x, np.sin(x), '-', linewidth=10, label='Dashed Line')\n",
    "ax.plot(x, -1 * np.sin(x), '.', color='m', linewidth=0.2, label='Dotted Line')\n",
    "\n",
    "ax.legend(loc='lower left')\n",
    "plt.show()"
   ]
  },
  {
   "cell_type": "code",
   "execution_count": null,
   "metadata": {
    "collapsed": false
   },
   "outputs": [],
   "source": [
    "\"\"\"\n",
    "Plot simulated data and a model curve\n",
    "\n",
    "\"\"\"\n",
    "\n",
    "\n",
    "# let's start by making some data to plot:\n",
    "x = np.linspace(0, 2*np.pi, 50)  # here we are making an array of length 50, ranging from 0-2pi\n",
    "y = np.sin(x) # we will set up another array, which is the sin() of the array X\n",
    "\n",
    "# here we will make another array just like 'Y', but with random scatter\n",
    "y2 = y + 0.5 * np.random.normal(size=x.shape) \n",
    "\n",
    "# here we'll set up the plotting area\n",
    "fig, ax = plt.subplots()\n",
    "\n",
    "# here we'll plot x vs y\n",
    "# formatting information:  'k' = black; '--' = dashed\n",
    "ax.plot(x, y, 'k--')\n",
    "\n",
    "# and we'll plot x vs. y2\n",
    "# formatting information: 'r' = red; 'o' = circles\n",
    "ax.plot(x, y2, 'r*', markersize=20, alpha=0.5)\n",
    "\n",
    "\"\"\"\n",
    "# If you want to, you can play around with the formats and labels of the ticks and axes\n",
    "ax.set_xlim((0, 2*np.pi))\n",
    "ax.set_xticks([0, np.pi, 2*np.pi])\n",
    "ax.set_xticklabels(['0', '$\\pi$', '2$\\pi$'])\n",
    "ax.set_ylim((-1.5, 1.5))\n",
    "ax.set_yticks([-1, 0, 1])\n",
    "\n",
    "# Only draw spine between the y-ticks\n",
    "ax.spines['left'].set_bounds(-1, 1)\n",
    "# Hide the right and top spines\n",
    "ax.spines['right'].set_visible(False)\n",
    "ax.spines['top'].set_visible(False)\n",
    "# Only show ticks on the left and bottom spines\n",
    "ax.yaxis.set_ticks_position('left')\n",
    "ax.xaxis.set_ticks_position('bottom')\n",
    "\"\"\"\n",
    "\n",
    "plt.show()"
   ]
  },
  {
   "cell_type": "markdown",
   "metadata": {},
   "source": [
    "#### EXPERIMENT: Try chaning the formatting of the points and lines on the plot.  You can find more examples here: http://matplotlib.org/users/screenshots.html"
   ]
  },
  {
   "cell_type": "code",
   "execution_count": null,
   "metadata": {
    "collapsed": false
   },
   "outputs": [],
   "source": [
    "\"\"\"\n",
    "Plot simulated data and a model curve\n",
    "\"\"\"\n",
    "# let's start by making some data to plot:\n",
    "x = np.linspace(0, 2*np.pi, 50)  # here we are making an array of length 50, ranging from 0-2pi\n",
    "y = np.sin(x) # we will set up another array, which is the sin() of the array X\n",
    "\n",
    "# here we will make another array just like 'Y', but with random scatter\n",
    "y2 = y + 0.5 * np.random.normal(size=x.shape) \n",
    "\n",
    "# here we'll set up the plotting area\n",
    "fig, ax = plt.subplots()\n",
    "\n",
    "# here we'll plot x vs y\n",
    "# formatting information:  'k' = black; '--' = dashed\n",
    "ax.plot(x, y, 'k--')\n",
    "\n",
    "# and we'll plot x vs. y2\n",
    "# formatting information: 'r' = red; 'o' = circles\n",
    "ax.plot(x, y2, 'r*', markersize=20, alpha=0.5)\n",
    "\n",
    "\"\"\"\n",
    "# If you want to, you can play around with the formats and labels of the ticks and axes\n",
    "ax.set_xlim((0, 2*np.pi))\n",
    "ax.set_xticks([0, np.pi, 2*np.pi])\n",
    "ax.set_xticklabels(['0', '$\\pi$', '2$\\pi$'])\n",
    "ax.set_ylim((-1.5, 1.5))\n",
    "ax.set_yticks([-1, 0, 1])\n",
    "\n",
    "# Only draw spine between the y-ticks\n",
    "ax.spines['left'].set_bounds(-1, 1)\n",
    "# Hide the right and top spines\n",
    "ax.spines['right'].set_visible(False)\n",
    "ax.spines['top'].set_visible(False)\n",
    "# Only show ticks on the left and bottom spines\n",
    "ax.yaxis.set_ticks_position('left')\n",
    "ax.xaxis.set_ticks_position('bottom')\n",
    "\"\"\"\n",
    "plt.show()"
   ]
  },
  {
   "cell_type": "markdown",
   "metadata": {
    "collapsed": true
   },
   "source": [
    "# II. Importing SciServer and other important libraries\n",
    "The SciServer team has written a number of libraries, generally prefixed with \"SciServer\", that assist in various functions. As with all Python libraries, they must be actively imported before being used.\n",
    "The next code block imports those, together with some standard Python libraries helpful for scientific analysis. The code block below applies some settings you may find helpful."
   ]
  },
  {
   "cell_type": "code",
   "execution_count": null,
   "metadata": {
    "collapsed": false
   },
   "outputs": [],
   "source": [
    "# Import Python libraries to work with SciServer (see http://www.sciserver.org/docs/sciscript-python/)\n",
    "\n",
    "import SciServer.CasJobs as CasJobs # query with CasJobs, the primary database for the SDSS\n",
    "import SciServer.SkyServer as SkyServer # show individual objects through SkyServer\n",
    "import SciServer.SciDrive           # read/write to/from SciDrive, cloud-based storage for your work\n",
    "import numpy as np                  # standard Python library for math operations\n",
    "import pandas                       # package for structuring and visualizing data\n",
    "import matplotlib.pyplot as plt     # package for graphing and visualization \n",
    "print('SciServer libraries imported')"
   ]
  },
  {
   "cell_type": "code",
   "execution_count": null,
   "metadata": {
    "collapsed": false
   },
   "outputs": [],
   "source": [
    "# Apply some special settings to the imported libraries\n",
    "\n",
    "# ensures columns get written completely in notebook\n",
    "pandas.set_option('display.max_colwidth', -1)\n",
    "# do *not* show python warnings \n",
    "import warnings\n",
    "warnings.filterwarnings('ignore')\n",
    "print('Settings applied')"
   ]
  },
  {
   "cell_type": "markdown",
   "metadata": {},
   "source": [
    "If you don't receive any errors after running the blocks of code above, you can try playing around with the libraries.  Shown below are a few examples of figures that can be made using Matplotlib.  This [thumbnail gallery](http://matplotlib.org/1.2.1/gallery.html) is useful for finding example code for making just about any kind of plot or visualization you can think of. If you're a fan of [XKCD](http://xkcd.com/), you can also XKCD-ify your plots with the code found [here](http://matplotlib.org/xkcd/gallery.html) :)"
   ]
  },
  {
   "cell_type": "markdown",
   "metadata": {},
   "source": [
    "#### III. Querying an astronomy database (SDSS DR14)\n",
    "The next code block searches the SDSS Data Release 14 database via the CasJobs REST API. The query completes quickly, so it uses CasJobs quick mode.\n",
    "CasJobs also has an asynchronous mode, which will submit job to a queue and will store the results in a table in your MyDB. If your results are very large, it will store the results in MyScratchDB instead.\n",
    "\n",
    "Run the code block below to query DR14. Try changing some of the query parameters at the top of the code block below to see how the output changes.\n",
    "\n",
    "Documentation on the SciServer Python libraries can be found on the SciServer Python documentation site at:\n",
    "http://www.sciserver.org/docs/sciscript-python/\n",
    "\n",
    "An extensive tutorial on how to query the SDSS database can be found here:\n",
    "http://cas.sdss.org/dr14/en/help/howto/search/searchhowtohome.aspx"
   ]
  },
  {
   "cell_type": "code",
   "execution_count": null,
   "metadata": {
    "collapsed": false
   },
   "outputs": [],
   "source": [
    "# Find objects in the Sloan Digital Sky Survey's Data Release 14.\n",
    "#\n",
    "# Query the Sloan Digital Sky Serveys' Data Release 14.\n",
    "# For the database schema and documentation see http://skyserver.sdss.org/dr14\n",
    "#\n",
    "# This query finds \"a 4x4 grid of nice-looking galaxies\": \n",
    "#   galaxies in the SDSS database that have a spectrum \n",
    "#   and have a size (petror90_r) larger than 10 arcsec.\n",
    "# \n",
    "# First, store the query in an object called \"query\"\n",
    "query=\"\"\"\n",
    "SELECT TOP 16 p.objId,p.ra,p.dec,p.petror90_r, p.g, p.r\n",
    "  FROM galaxy AS p\n",
    "   JOIN SpecObj AS s ON s.bestobjid = p.objid\n",
    "WHERE p.u BETWEEN 0 AND 19.6\n",
    "  AND p.g BETWEEN 0 AND 17  AND p.petror90_r > 10\n",
    "\"\"\"\n",
    "gals = CasJobs.executeQuery(query, \"dr14\")\n",
    "gals = gals.set_index('objId')\n",
    "gals"
   ]
  },
  {
   "cell_type": "markdown",
   "metadata": {},
   "source": [
    "#### EXPERIMENT:  What happens if you change the query?\n",
    "\n",
    "Try changing the query in the following ways: \n",
    "- Return 8 matching objects insetad of 16.\n",
    "- Select only nearby galaxies (redshift < 0.05).\n",
    "- Select only galaxies likely to be spirals (with u-r color >= 2.22)\n",
    "- Search for galaxies in SDSS Data Release 10 instead of DR14.\n",
    "\n",
    "What changes do you notice in the table of returned results?\n",
    "\n",
    "Try it in the code block below:"
   ]
  },
  {
   "cell_type": "code",
   "execution_count": null,
   "metadata": {
    "collapsed": false
   },
   "outputs": [],
   "source": [
    "# Find objects in the Sloan Digital Sky Survey's Data Release 14.\n",
    "# First, store the query in an object called \"query\"\n",
    "query=\"\"\"\n",
    "SELECT TOP 16 p.objId,p.ra,p.dec,p.petror90_r, p.g, p.r\n",
    "  FROM galaxy AS p\n",
    "   JOIN SpecObj AS s ON s.bestobjid = p.objid\n",
    "WHERE p.u BETWEEN 0 AND 19.6\n",
    "  AND p.g BETWEEN 0 AND 17\n",
    "  AND p.petror90_r > 10\n",
    "\"\"\"\n",
    "gals = CasJobs.executeQuery(query, \"dr14\")\n",
    "gals = gals.set_index('objId')\n",
    "gals"
   ]
  },
  {
   "cell_type": "markdown",
   "metadata": {},
   "source": [
    "# IV. Visualizing Returned Data\n",
    "Now that we have run the query and stored the results, we can start analyzing the results.\n",
    "\n",
    "Start by making a simple plot of positions, using the default query from step 3 (select top 16... AND p.petror90_r > 10).\n",
    "\n",
    "What do you see?"
   ]
  },
  {
   "cell_type": "code",
   "execution_count": null,
   "metadata": {
    "collapsed": false
   },
   "outputs": [],
   "source": [
    "# Try making an Ra, Dec scatter plot...\n",
    "plt.scatter(gals['ra'], gals['dec'])\n",
    "plt.show() "
   ]
  },
  {
   "cell_type": "markdown",
   "metadata": {},
   "source": [
    "#### EXPERIMENT: How can you improve the graph?\n",
    "\n",
    "The graph you just made visualizes your data in the simplets possible way: as a scatterplot of (ra/dec) positions with default graphing parameters. But you could make many other possible graphs, and you can always add labels, change axis scales, or adjust many other features of graphs. You practiced making some of these display changes in the sections above. Full details on all the possible graph options are described in the online documentation for the pyplot module at http://matplotlib.org/api/pyplot_summary.html.\n",
    "\n",
    "\n",
    "Try changing the code block below in the following ways. What changes do you notice in the plot?\n",
    "- Add axis labels\n",
    "- Change the scales of both axes to zoom in on the cluster of points around ra = 250\n",
    "- Increase the font size of the numbers and the axis labels\n",
    "- Add a title above the graph\n",
    "- Plot galaxies out to dec = +/-5 (change the display axes as well)\n",
    "\n",
    "Next, try making some other plots. Add any labels and titles that will help the reader interpret your graphs.\n",
    "- Plot a histogram of the g-band magnitudes\n",
    "- Plot a color-color diagram with g on the x-axis and r on the y-axis\n",
    "- Create graphs with 1,000 objects instead of just 16 (note this will require changing the query above and re-running both blocks)\n",
    "\n",
    "Try it in the code block below:"
   ]
  },
  {
   "cell_type": "code",
   "execution_count": null,
   "metadata": {
    "collapsed": false
   },
   "outputs": [],
   "source": [
    "# make scatterplot\n",
    "#plt.scatter(gals['g'],gals['r'])\n",
    "\n",
    "# create an overall figure object (fig) and an \"axis\" object to display this data (ax)\n",
    "fig, ax = plt.subplots()\n",
    "\n",
    "# This graph is associated with the axis object\n",
    "ax.scatter(gals['ra'], gals['dec'])\n",
    "\n",
    "# Add formatting options here. Some may apply to fig and others to ax.\n",
    "\n",
    "# Show the graph will all the options you set.\n",
    "plt.show()"
   ]
  },
  {
   "cell_type": "markdown",
   "metadata": {},
   "source": [
    "## Let's make a color-magnitude diagram of galaxies"
   ]
  },
  {
   "cell_type": "code",
   "execution_count": null,
   "metadata": {
    "collapsed": false
   },
   "outputs": [],
   "source": [
    "# enter query\n",
    "query=\"\"\"\n",
    "SELECT TOP 1000 p.objId,p.ra,p.dec,p.petror90_r, p.u,p.g,p.r,p.i,p.z\n",
    "  FROM galaxy AS p\n",
    "   JOIN SpecObj AS s ON s.bestobjid = p.objid\n",
    "WHERE p.u BETWEEN 0 AND 19.6\n",
    "  AND p.g BETWEEN 0 AND 17\n",
    "  AND p.petror90_r > 10\n",
    "\"\"\"\n",
    "# send query to CasJobs\n",
    "gals = CasJobs.executeQuery(query, \"dr14\")\n",
    "# show results\n",
    "gals"
   ]
  },
  {
   "cell_type": "code",
   "execution_count": null,
   "metadata": {
    "collapsed": false
   },
   "outputs": [],
   "source": [
    "# make scatterplot\n",
    "gal_color = gals['g']-gals['r']\n",
    "gal_mag = gals['g']\n",
    "plt.scatter(gal_color, gal_mag, alpha=0.5)\n",
    "plt.xlabel('g-r')\n",
    "plt.ylabel('g')\n",
    "plt.show() "
   ]
  },
  {
   "cell_type": "code",
   "execution_count": null,
   "metadata": {
    "collapsed": true
   },
   "outputs": [],
   "source": []
  }
 ],
 "metadata": {
  "kernelspec": {
   "display_name": "Python 3",
   "language": "python",
   "name": "python3"
  },
  "language_info": {
   "codemirror_mode": {
    "name": "ipython",
    "version": 3
   },
   "file_extension": ".py",
   "mimetype": "text/x-python",
   "name": "python",
   "nbconvert_exporter": "python",
   "pygments_lexer": "ipython3",
   "version": "3.5.3"
  }
 },
 "nbformat": 4,
 "nbformat_minor": 0
}
