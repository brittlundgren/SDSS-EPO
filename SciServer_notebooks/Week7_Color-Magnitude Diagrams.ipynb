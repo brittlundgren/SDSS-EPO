{
 "cells": [
  {
   "cell_type": "markdown",
   "metadata": {},
   "source": [
    "# SDSS Activity: Color-Magnitude Diagrams\n"
   ]
  },
  {
   "cell_type": "markdown",
   "metadata": {},
   "source": [
    "# 2. Import SciServer libraries \n",
    "The SciServer team has written a number of libraries, generally prefixed by <tt>SciServer</tt>, that assist in various functions. As with all Python libraries, they must be actively imported before being used.\n",
    "\n",
    "The next code block imports those, together with some standard Python libraries helpful for scientific analysis. The code block below applies some settings you may find helpful."
   ]
  },
  {
   "cell_type": "code",
   "execution_count": null,
   "metadata": {
    "collapsed": false
   },
   "outputs": [],
   "source": [
    "# Step 2a: Import Python libraries to work with SciServer\n",
    "\n",
    "import SciServer.CasJobs as CasJobs # query with CasJobs, the primary database for the SDSS\n",
    "#import SciServer.SciDrive           # read/write to/from SciDrive, cloud-based storage for your work\n",
    "import numpy as np                  # standard Python lib for math ops\n",
    "import pandas                       # data manipulation package\n",
    "import matplotlib.pyplot as plt     # another graphing package\n",
    "print('All libraries imported')\n",
    "\n",
    "# ensures columns get written completely in notebook\n",
    "pandas.set_option('display.max_colwidth', -1)\n",
    "# do *not* show python warnings \n",
    "import warnings\n",
    "warnings.filterwarnings('ignore')\n",
    "print('Settings applied')"
   ]
  },
  {
   "cell_type": "code",
   "execution_count": null,
   "metadata": {
    "collapsed": false
   },
   "outputs": [],
   "source": [
    "# Step 3: Enter query\n",
    "query=\"\"\"\n",
    "SELECT TOP 200 p.objId,p.ra,p.dec,p.g,p.r,p.i,p.z\n",
    "  FROM star AS p\n",
    "   JOIN SpecObj AS s ON s.bestobjid = p.objid\n",
    "WHERE p.u BETWEEN 0 AND 19.0\n",
    "  AND p.g BETWEEN 0 AND 19.0\n",
    "  \n",
    "\"\"\"\n",
    "# send query to CasJobs\n",
    "stars = CasJobs.executeQuery(query, \"dr14\")\n",
    "stars = stars.set_index('objId')\n",
    "stars"
   ]
  },
  {
   "cell_type": "code",
   "execution_count": null,
   "metadata": {
    "collapsed": false
   },
   "outputs": [],
   "source": [
    "color1 = stars['r']-stars['i']\n",
    "magnitude = stars['g']\n",
    "\n",
    "plt.scatter(color1, magnitude)\n",
    "plt.xlabel('r-i')\n",
    "plt.ylabel('g')\n",
    "plt.axis([-0.5, 0.5, 14.5, 18.])\n",
    "plt.show() "
   ]
  },
  {
   "cell_type": "code",
   "execution_count": null,
   "metadata": {
    "collapsed": false
   },
   "outputs": [],
   "source": [
    "color2 = stars['g']-stars['r']\n",
    "\n",
    "plt.scatter(color2, color1)\n",
    "plt.xlabel('r-i')\n",
    "plt.ylabel('g-r')\n",
    "plt.axis([-0.5, 0.5, -0.5, 0.5])\n",
    "plt.show() "
   ]
  },
  {
   "cell_type": "markdown",
   "metadata": {},
   "source": [
    "# Let's do it for galaxies"
   ]
  },
  {
   "cell_type": "code",
   "execution_count": null,
   "metadata": {
    "collapsed": false
   },
   "outputs": [],
   "source": [
    "# Step 3: Enter query\n",
    "query=\"\"\"\n",
    "SELECT TOP 200 p.objId,p.ra,p.dec,p.g,p.r,p.i,p.z,s.z as redshift\n",
    "  FROM galaxy AS p\n",
    "   JOIN SpecObj AS s ON s.bestobjid = p.objid\n",
    "WHERE p.r < 17.7\n",
    "  AND s.z BETWEEN 0.03 AND 0.05\n",
    "  \n",
    "\"\"\"\n",
    "# send query to CasJobs\n",
    "galaxies = CasJobs.executeQuery(query, \"dr14\")\n",
    "galaxies"
   ]
  },
  {
   "cell_type": "code",
   "execution_count": null,
   "metadata": {
    "collapsed": false
   },
   "outputs": [],
   "source": [
    "color1 = galaxies['r']-galaxies['i']\n",
    "color2 = galaxies['g']-galaxies['r']\n",
    "magnitude = galaxies['g']\n",
    "\n",
    "plt.scatter(color2, magnitude)\n",
    "plt.xlabel('g-r')\n",
    "plt.ylabel('g')\n",
    "plt.axis([-0.5, 2., 14, 19.])\n",
    "plt.show() "
   ]
  },
  {
   "cell_type": "code",
   "execution_count": null,
   "metadata": {
    "collapsed": true
   },
   "outputs": [],
   "source": []
  }
 ],
 "metadata": {
  "kernelspec": {
   "display_name": "Python 3",
   "language": "python",
   "name": "python3"
  },
  "language_info": {
   "codemirror_mode": {
    "name": "ipython",
    "version": 3
   },
   "file_extension": ".py",
   "mimetype": "text/x-python",
   "name": "python",
   "nbconvert_exporter": "python",
   "pygments_lexer": "ipython3",
   "version": "3.5.3"
  }
 },
 "nbformat": 4,
 "nbformat_minor": 0
}
