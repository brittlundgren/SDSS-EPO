{
 "cells": [
  {
   "cell_type": "markdown",
   "metadata": {},
   "source": [
    "# SDSS Activity: Modeling H-R Diagrams\n",
    "\n",
    "Today we will apply numerical models of stellar evolution to determine the distance, metallicity, and age of globular clusters observed in the SDSS. You may find it useful to refer to the project background and helpful hints posted here:\n",
    "http://voyages.sdss.org/hr-diagrams/"
   ]
  },
  {
   "cell_type": "code",
   "execution_count": null,
   "metadata": {
    "collapsed": false
   },
   "outputs": [],
   "source": [
    "# Import Python libraries to work with SciServer\n",
    "import SciServer.CasJobs as CasJobs # query with CasJobs\n",
    "import SciServer.SkyServer as SkyServer # look up objects and generate images\n",
    "print('SciServer libraries imported')"
   ]
  },
  {
   "cell_type": "code",
   "execution_count": null,
   "metadata": {
    "collapsed": false
   },
   "outputs": [],
   "source": [
    "# Import some other needed libraries\n",
    "import pandas\n",
    "import numpy as np\n",
    "from scipy import stats\n",
    "from matplotlib import pyplot as plt\n",
    "print('Other libraries imported')"
   ]
  },
  {
   "cell_type": "code",
   "execution_count": null,
   "metadata": {
    "collapsed": false
   },
   "outputs": [],
   "source": [
    "# Apply some settings\n",
    "\n",
    "# ensure columns get written completely in notebook\n",
    "pandas.set_option('display.max_colwidth', -1)\n",
    "# do *not* show python warnings \n",
    "import warnings\n",
    "warnings.filterwarnings('ignore')\n",
    "print('Settings applied')"
   ]
  },
  {
   "cell_type": "markdown",
   "metadata": {},
   "source": [
    "## Choosing a star cluster\n",
    "\n",
    "The first, and very important, step is selecting a cluster with good photometric data. If you already have a favorite cluster, type it into the “name” box in [Navigate](http://skyserver.sdss.org/dr13/en/tools/chart/navi.aspx) and click “Resolve” to see if it’s in the SDSS database. If not, you can look at [this catalog](http://www.galaxyzooforum.org/index.php?topic=278836.0) of open and globular clusters that have already been found with SDSS data and choose one that you like. When you’ve found an object, type its name into Navigate as just explained, and it will likely appear automatically. Some of the clusters aren’t listed in the SDSS index, however; if that’s the case, each object’s RA and Dec can be found by clicking on its image in the catalog. You can then type the values into Navigate by hand.\n",
    "\n",
    "While selecting a cluster, don’t be afraid to look closely at several in order to compare your options and find the one best suited to your needs—not every cluster in the database will produce a good HR diagram. Ask yourself:\n",
    "\n",
    "- What kinds of data do you need to build a Hertzsprung-Russell diagram?\n",
    "- How many data points (stars) will be necessary to see a clear and distinct trend?\n",
    "- Why do some clusters have better photometry than others? How will that affect your plot?\n",
    "- What are the advantages/disadvantages to changing the radius of your search?"
   ]
  },
  {
   "cell_type": "markdown",
   "metadata": {},
   "source": [
    "## Fetch the data for the star cluster of choice\n",
    "\n",
    "You can find a resource to get you started with your own SQL searches [here](http://voyages.sdss.org/sql-for-cmds/).\n",
    "\n",
    "To start your query, think about exactly which data you’re looking for and what criteria you’ll use to select it. You can explore the [Schema Browser](http://skyserver.sdss.org/dr14/en/help/browser/browser.aspx) to better understand the all of the information at your disposal in the SDSS database.  While answering the questions below you will likely want to review the data model for the “PhotoObj” schema, which provides from the best photometric data available. In general, it may be a good idea to request more options than you think you’ll need, in case you change your mind later.\n",
    "\n",
    "Several magnitude-fitting models are available in PhotoObj: psfMag, fiberMag, petroMag, deVMag, expMag, modelMag, cModelMag, and dered.   You can find them defined [here](http://skyserver.sdss.org/dr14/en/help/browser/browser.aspx#&&history=description+PhotoPrimary+V).\n",
    "- How do they differ? \n",
    "- Which is best suited to the plot you’ll be making, where brightness and color are the two important variables?\n"
   ]
  },
  {
   "cell_type": "code",
   "execution_count": null,
   "metadata": {
    "collapsed": false
   },
   "outputs": [],
   "source": [
    "## Create a query to fetch stars for one of the following globular clusters\n",
    "# Pal 3: RA = 151.3801, Dec = +0.072\n",
    "# Pal 5: RA = 229.0128, Dec = -0.1082 \n",
    "\n",
    "# Enter the coordinates of your star cluster (to be used to construct the query)\n",
    "cluster_name = 'Palomar 5'\n",
    "cluster_ra = 229.0128  # RA of the center of the cluster (in decimal degrees)\n",
    "cluster_dec = -0.182   # Dec of the center of the cluster (in decimal degrees)\n",
    "cluster_radius = 4.0   # Radius of the cluster, in arcminutes\n",
    "cluster_distance = 23000 # approximate distance to your cluster, in units of parsecs\n",
    "\n",
    "query = 'SELECT p.objid, p.psfMag_u AS u, p.psfMagErr_u as u_err, p.psfMag_g AS g, p.psfMagErr_g as g_err, '\n",
    "#query = 'SELECT p.objid, p.dered_u AS u, p.psfMagErr_u as u_err, p.dered_g AS g, p.psfMagErr_g as g_err, ' # de-reddened mags\n",
    "query += 'p.dered_r AS r, p.psfMagErr_r as r_err, p.dered_i AS i, p.psfMagErr_i as i_err, '\n",
    "query += 'p.dered_z AS z, p.psfMagErr_z as z_err '\n",
    "query += 'FROM photoObj p '\n",
    "query += 'JOIN dbo.fGetNearbyObjEq(' + str(cluster_ra) + ', ' + str(cluster_dec) + ', ' + str(cluster_radius) + ') n '\n",
    "query += 'ON p.objid = n.objID '\n",
    "query += 'WHERE p.type = 6 '\n",
    "query += 'AND p.psfMag_g BETWEEN -10 AND 23 '\n",
    "query += 'AND p.psfMag_u/p.psfMagerr_u > 30 '\n",
    "query += 'AND p.psfMag_g/p.psfMagerr_g > 30 '\n",
    "query += 'AND p.psfMag_r/p.psfMagerr_r > 30 '\n",
    "query += 'AND p.psfMag_i/p.psfMagerr_i > 30 '\n",
    "query += 'AND p.psfMag_z/p.psfMagerr_z > 30'\n",
    "#print(query)   # useful for debugging, remove first # to uncomment\n",
    "\n",
    "# send query to CasJobs\n",
    "stars = CasJobs.executeQuery(query, \"dr14\")\n",
    "\n",
    "stars"
   ]
  },
  {
   "cell_type": "markdown",
   "metadata": {},
   "source": [
    "## Ploting an H-R Diagram (magnitude vs. color)\n",
    "\n",
    "Of the five ugriz filters, you will need to use two in your plot. Which ones will you use? Refer to the “Color” section of the SDSS Voyages [Star Color](http://voyages.sdss.org/star-color/) site.\n",
    "\n",
    "Our end goal is to produce a Hertzprung-Russell (H-R) diagram, so make sure your axes are going in the right direction. You can check this intuitively by considering what the axes actually represent: luminosity is how much energy an object emits, so when luminosity increases, how should the apparent magnitude be affected? And since an HR diagram plots decreasing temperature on the x-axis, what does that imply about the color of light being emitted? Should it go from bluer stars to redder stars, or the other way around?"
   ]
  },
  {
   "cell_type": "code",
   "execution_count": null,
   "metadata": {
    "collapsed": false
   },
   "outputs": [],
   "source": [
    "color = stars['g']-stars['r']\n",
    "color_err = np.sqrt((stars['g_err']**2) + (stars['r_err']**2))\n",
    "\n",
    "\n",
    "#plt.scatter(color,stars['r'], alpha=0.1)\n",
    "\n",
    "#fig, ax = plt.subplots()\n",
    "#ax.errorbar(x, y, xerr=0.2, yerr=0.4)\n",
    "#plt.show()\n",
    "#plt.figure(figsize=(9,6))\n",
    "plt.errorbar(color, stars['r'].values, yerr = color_err, xerr=stars['r_err'].values, fmt='mo', alpha=0.2, label=cluster_name)\n",
    "\n",
    "plt.axis([-1,2,24,10])\n",
    "plt.legend(numpoints=1)\n",
    "plt.xlabel('g - r')\n",
    "plt.ylabel('r')\n",
    "plt.show()"
   ]
  },
  {
   "cell_type": "markdown",
   "metadata": {},
   "source": [
    "## Making sense of your plot\n",
    "\n",
    "A successful color-magnitude diagram can take many shapes. How many of the following characteristic features of an H-R diagram can you locate?\n",
    "    - Main Sequence\n",
    "    - H-core exhaustion (MS turn-off point)\n",
    "    - Red Giant Branch\n",
    "    - Horizontal Branch\n",
    "    - Asymptotic Giant Branch\n",
    "    \n",
    "Your cluster may look very different from a typical H-R diagram, especially since the SDSS telescope is limited in its range from about 14th to 24th magnitude. This means that you’re looking at a horizontal cross-section of the full cluster, so don’t be discouraged if all of its features aren’t visible.\n",
    "\n",
    "Try re-plotting your H-R Diagram with any identifiable features labeled. The following links demonstrate how to add text annotations and arrow to your plot:\n",
    "- http://matplotlib.org/users/text_intro.html\n",
    "- http://matplotlib.org/examples/pylab_examples/arrow_simple_demo.html"
   ]
  },
  {
   "cell_type": "code",
   "execution_count": null,
   "metadata": {
    "collapsed": false
   },
   "outputs": [],
   "source": [
    "color = stars['g']-stars['r']\n",
    "color_err = stars['g_err']+stars['r_err']\n",
    "\n",
    "#plt.scatter(color,stars['r'], alpha=0.1)\n",
    "plt.errorbar(color, stars['g'], yerr = color_err, xerr=stars['r_err'], fmt='mo', alpha=0.2, label=cluster_name)\n",
    "plt.axis([-1,2,24,10])\n",
    "plt.legend(numpoints=1)\n",
    "plt.xlabel('g - r')\n",
    "plt.ylabel('g')\n",
    "plt.annotate('RGB', xy=(0.6, 19), xytext=(1.0, 18),\n",
    "            arrowprops=dict(facecolor='gray', shrink=0.05))\n",
    "plt.annotate('Main Sequence', xy=(0.5, 22), xytext=(0.8, 21),\n",
    "            arrowprops=dict(facecolor='gray', shrink=0.03))\n",
    "plt.annotate('Horiz. Branch', xy=(0.2, 17), xytext=(-0.8, 16),\n",
    "            arrowprops=dict(facecolor='gray', shrink=0.03))\n",
    "plt.annotate('MS Turnoff', xy=(0.2, 20.5), xytext=(-0.8, 20),\n",
    "            arrowprops=dict(facecolor='gray', shrink=0.03))\n",
    "plt.show() "
   ]
  },
  {
   "cell_type": "markdown",
   "metadata": {},
   "source": [
    "## Modeling stellar evolution tracks with isochrones\n",
    "\n",
    "An isochrone is a computational model of stellar evolution. Parameters for a cluster like its age and chemical composition are plugged into a formula, and a computer simulates the development of stars within that cluster based upon their mass. The output is similar to the results of your SQL query from the first section of this Expedition: it’s a table of numbers, where each row lists the properties of a given star. That means you can also plot this data just like you did to produce your color-magnitude diagram, and it should look like an HR diagram for a cluster of the properties you selected.\n",
    "\n",
    "Isochrones are designed to model the internal mechanisms of stars, so we use them to test our understanding of stellar evolution by comparing their results against external (measurable) properties. This is why we don’t plot them on the mass-luminosity axes or using other relationships: we can most easily measure stars’ luminosity and temperature, which makes Hertzsprung-Russell diagrams the most efficient format to place theory alongside observation. We’ll be doing things backwards, though, since we assume that isochrones are more or less correct and use them to learn more about your cluster.\n",
    "\n",
    "When producing an isochrone to match your cluster, the primary variables you need to work with are the metallicity and age. These are two parameters that every isochrone generator should require, although they may offer additional options as well. To simplify the process, feel free to do an online search for your cluster’s metallicity. The result should be a value for Z or [Fe/H], and depending on which one your generator uses, you may need to convert these values. The equation for this is [Fe/H] = log(Z/0.02), using a base-10 logarithm. As for the age, you’ll be finding that for your cluster in the next section of the activity. For now, plug in 200 million (2•10⁸) years; this should offer a relatively long main sequence to compare against.\n",
    "\n",
    "A brief online search can bring up several results for isochrone generators, typically hosted on university web domains, so feel free to explore your options before choosing which one to use. We will use the [Dartmouth Isochrone and Luminosity Function Generator 2012](http://stellar.dartmouth.edu/models/index.html). It’s important to note, however, that models of stellar evolution are constantly being developed as we deepen our knowledge of the processes involved and our computing power improves. The generators linked to above may soon obsolesce, so you may want to research if other options have been released recently.\n",
    "\n",
    "Using the Dartmouth Generator, create an isochrome model with a combination of the following choices: \n",
    "- [Fe/H] options: [-2.5, -2.0, -1.5, -1.0, -0.5, 0.0, +0.2, +0.3, +0.5]\n",
    "- [alpha/H] options: [-0.2, 0.0, +0.2, +0.4, +0.6, +0.8]\n",
    "\n",
    "If you have chosen a globular cluster, note that their very old stellar populations mean that the stars have extremely low metallicities (as they formed when the universe was young and metal-poor). \n",
    "\n",
    "Make sure you also select SDSS filters for your output!\n",
    "\n",
    "Produce an isochrome using the Dartmouth web generator, and upload the *.iso file to your SciServer dashboard.\n",
    "\n"
   ]
  },
  {
   "cell_type": "code",
   "execution_count": null,
   "metadata": {
    "collapsed": false
   },
   "outputs": [],
   "source": [
    "## Provide the name of your isochrome model file below:\n",
    "\n",
    "isofile = \"isochrones/tmp1487212885.iso\"  # [Fe/H]=-2.0\n",
    "#isofile = \"tmp1487281984.iso\" # [Fe/H]=0.2\n",
    "print('Isochrone file loaded: '+isofile)"
   ]
  },
  {
   "cell_type": "code",
   "execution_count": null,
   "metadata": {
    "collapsed": false
   },
   "outputs": [],
   "source": [
    "## Prepared for you below is a function that will \n",
    "## read in the models from your uploaded isochrome file.\n",
    "def read_isofile(filename, minage, maxage):\n",
    "\n",
    "    # Set a minimum and maximum age range (in Gyrs) below:\n",
    "    minage = 11.0\n",
    "    maxage = 12.0\n",
    "    sdss_u = []\n",
    "    sdss_g = []\n",
    "    sdss_r = []\n",
    "    sdss_i = []\n",
    "    sdss_z = []\n",
    "\n",
    "    age = [] # in Gigayears\n",
    "    mass = [] # ratio of stellar mass to M_sun\n",
    "    logT = [] # log of the effective Temperature (K)\n",
    "    logL = [] # log of the ratio of stellar luminosity to L_sun\n",
    "    counter=0\n",
    "    for line in open(filename).readlines():\n",
    "        counter+=1\n",
    "        cols = line.split()\n",
    "        if (line.startswith('#')):\n",
    "    #        print(counter, ': starts with hashtag: ',cols)\n",
    "            if (counter >= 8):   # real data starts on line #8\n",
    "                if (\"AGE\" in cols[0]):\n",
    "                    block = (line[0:11])\n",
    "                    thisage = float(block.split('=')[1])\n",
    "    #                print(\"Reading stellar models with age: {0:.2f} Gyr\".format(thisage))            \n",
    "        else:\n",
    "            if (thisage > minage) and (thisage < maxage):\n",
    "#                print(cols)\n",
    "                if (len(cols) > 0):\n",
    "                    age.append(thisage)\n",
    "                    mass.append(float(cols[1]))\n",
    "                    logT.append(float(cols[2]))\n",
    "                    logL.append(float(cols[4]))\n",
    "                    sdss_u.append(float(cols[5]))\n",
    "                    sdss_g.append(float(cols[6]))\n",
    "                    sdss_r.append(float(cols[7]))\n",
    "                    sdss_i.append(float(cols[8]))\n",
    "                    sdss_z.append(float(cols[9]))\n",
    "    return (sdss_u, sdss_g, sdss_r, sdss_i, sdss_z, age, mass, logT, logL)    \n",
    "\n",
    "(sdss_u, sdss_g, sdss_r, sdss_i, sdss_z, age, mass, logT, logL) = read_isofile(isofile, minage, maxage)\n",
    "\n",
    "print(\"Read in {0:.0f} stellar models, ranging in age from {1:.2f} to {2:.2f} Gyr.\".format(len(sdss_u), age[0], age[-1]))"
   ]
  },
  {
   "cell_type": "markdown",
   "metadata": {},
   "source": [
    "## Now let's overplot the model on the H-R diagram"
   ]
  },
  {
   "cell_type": "code",
   "execution_count": null,
   "metadata": {
    "collapsed": false
   },
   "outputs": [],
   "source": [
    "model_color = np.array(sdss_g)-np.array(sdss_r)\n",
    "model_g = np.array(sdss_g)\n",
    "\n",
    "\n",
    "#plt.scatter(color,stars['r'], alpha=0.1)\n",
    "plt.errorbar(color, stars['g'], yerr = color_err, xerr=stars['r_err'], fmt='mo', alpha=0.2, label='Palomar 5')\n",
    "plt.axis([-1,2,24,-2])\n",
    "plt.legend(numpoints=1)\n",
    "plt.xlabel('g - r')\n",
    "plt.ylabel('g')\n",
    "plt.plot(model_color,model_g, 'b.', alpha=0.02)\n",
    "plt.show()"
   ]
  },
  {
   "cell_type": "markdown",
   "metadata": {},
   "source": [
    "\n",
    "## Distance, extinction and reddening\n",
    "\n",
    "That probably looks like an awfully bad fit. That is because our data are in apparent, reddened magnitudes and the isochrones provide absolute, unreddened magnitudes.\n",
    "\n",
    "Now might be a good time to go back and ensure that you are selecting de-reddened (\"dered\") magnitudes in your SDSS star cluster query.  If you weren't, re-run your query and the steps that followed.\n",
    "\n",
    "With that done, we'll also now try using our model to calculate the distance to the cluster.  To do this, we want to apply the [distance modulus](https://en.wikipedia.org/wiki/Distance_modulus), which relates apparent and absolute magnitudes with distance. \n",
    "\n",
    "Try guessing a distance to your cluster, in units of parsecs, and compute the distance modulus, using the calculation below. Then correct your model magnitudes using the distance modulus equation.  By guessing and overplotting a number of times, you will hopefully find the position where the model and data overlap.  Such agreement indicates that you have approximately found the distance to the cluster!"
   ]
  },
  {
   "cell_type": "code",
   "execution_count": null,
   "metadata": {
    "collapsed": false
   },
   "outputs": [],
   "source": [
    "from math import log10\n",
    "#distance = 23000.0 # approximate distance to Palomar 5 in units of parsecs\n",
    "\n",
    "dm = 5*log10(cluster_distance/10)\n",
    "\n",
    "model_g_corr = model_g+dm\n",
    "\n",
    "plt.errorbar(color, stars['g'], yerr = color_err, xerr=stars['r_err'], fmt='mo', alpha=0.2, label='Palomar 5')\n",
    "plt.axis([-1,2,24,10])\n",
    "plt.legend(numpoints=1)\n",
    "plt.xlabel('g - r')\n",
    "plt.ylabel('g')\n",
    "plt.plot(model_color,model_g_corr, 'b.', alpha=0.2)\n",
    "plt.show()"
   ]
  },
  {
   "cell_type": "markdown",
   "metadata": {},
   "source": [
    "## Now let's plot again, to check whether our model and data are in agreement for the distance to the cluster"
   ]
  },
  {
   "cell_type": "code",
   "execution_count": null,
   "metadata": {
    "collapsed": false
   },
   "outputs": [],
   "source": []
  },
  {
   "cell_type": "markdown",
   "metadata": {},
   "source": [
    "If the isochrone is sitting to the left of the data, this may be due to interstellar dust extinction, which both absorbs light and reddens colours. The relationship between reddening  E(B−V) and extinction  AV  is:\n",
    "\n",
    "AV=3.2*E(B−V)\n",
    "\n",
    "(e.g., For NGC 7789, E(B−V) is roughly 0.2)\n",
    "\n",
    "Try shifting your model to correct for the extinction, if necessary."
   ]
  },
  {
   "cell_type": "code",
   "execution_count": null,
   "metadata": {
    "collapsed": false
   },
   "outputs": [],
   "source": [
    "\n",
    "ebv = 0.1\n",
    "av = 3.2*ebv\n",
    "\n",
    "model_g_dered = np.array(model_g_corr) + av\n",
    "model_gr_dered = np.array(model_color) + ebv\n",
    "print('Done')"
   ]
  },
  {
   "cell_type": "code",
   "execution_count": null,
   "metadata": {
    "collapsed": false
   },
   "outputs": [],
   "source": [
    "#plt.figure(figsize=(12,8))\n",
    "plt.errorbar(color, stars['g'], yerr = color_err, xerr=stars['r_err'], fmt='mo', alpha=0.2, label='Palomar 5')\n",
    "plt.axis([-1,2,24,10])\n",
    "plt.legend(numpoints=1)\n",
    "plt.xlabel('g - r')\n",
    "plt.ylabel('g')\n",
    "plt.plot(model_gr_dered,model_g_dered, 'b.', alpha=0.2)\n",
    "plt.show()"
   ]
  },
  {
   "cell_type": "markdown",
   "metadata": {},
   "source": [
    "## Determining the age of the cluster\n",
    "\n",
    "Any additional offset between your model and the data is likely due to the cluster age.  Try going back to the earlier step where you created your model, and change the age range that's plotted.  With some experimentation, can you fit the age of the cluster, simultaneously with its distance and reddening?  "
   ]
  },
  {
   "cell_type": "code",
   "execution_count": null,
   "metadata": {
    "collapsed": false
   },
   "outputs": [],
   "source": [
    "## Create a query to fetch stars for one of the following globular clusters\n",
    "# Pal 3: RA = 151.3801, Dec = +0.072\n",
    "# Pal 5: RA = 229.0128, Dec = -0.1082 \n",
    "\n",
    "# Enter the coordinates of your star cluster (to be used to construct the query)\n",
    "cluster_name = 'Palomar 5'\n",
    "cluster_ra = 229.0128  # RA of the center of the cluster (in decimal degrees)\n",
    "cluster_dec = -0.182   # Dec of the center of the cluster (in decimal degrees)\n",
    "cluster_radius = 4.0   # Radius of the cluster, in arcminutes\n",
    "cluster_distance = 23000 # approximate distance to your cluster, in units of parsecs\n",
    "\n",
    "query_psf = 'SELECT p.objid, p.psfMag_u AS u, p.psfMagErr_u as u_err, p.psfMag_g AS g, p.psfMagErr_g as g_err, '\n",
    "query_psf += 'p.psfMag_r AS r, p.psfMagErr_r as r_err, p.psfMag_i AS i, p.psfMagErr_i as i_err, '\n",
    "query_psf += 'p.psfMag_z AS z, p.psfMagErr_z as z_err '\n",
    "query_psf += 'FROM photoObj p '\n",
    "query_psf += 'JOIN dbo.fGetNearbyObjEq(' + str(cluster_ra) + ', ' + str(cluster_dec) + ', ' + str(cluster_radius) + ') n '\n",
    "query_psf += 'ON p.objid = n.objID '\n",
    "query_psf += 'WHERE p.type = 6 '\n",
    "query_psf += 'AND p.psfMag_g BETWEEN -10 AND 23 '\n",
    "query_psf += 'AND p.psfMag_u/p.psfMagerr_u > 30 '\n",
    "query_psf += 'AND p.psfMag_g/p.psfMagerr_g > 30 '\n",
    "query_psf += 'AND p.psfMag_r/p.psfMagerr_r > 30 '\n",
    "query_psf += 'AND p.psfMag_i/p.psfMagerr_i > 30 '\n",
    "query_psf += 'AND p.psfMag_z/p.psfMagerr_z > 30'\n",
    "#print(query)   # useful for debugging, remove first # to uncomment\n",
    "\n",
    "# send query to CasJobs\n",
    "stars_psf = CasJobs.executeQuery(query_psf, \"dr14\")\n",
    "\n",
    "stars_psf"
   ]
  },
  {
   "cell_type": "code",
   "execution_count": null,
   "metadata": {
    "collapsed": false
   },
   "outputs": [],
   "source": [
    "## Create a query to fetch stars for one of the following globular clusters\n",
    "# Pal 3: RA = 151.3801, Dec = +0.072\n",
    "# Pal 5: RA = 229.0128, Dec = -0.1082 \n",
    "\n",
    "# Enter the coordinates of your star cluster (to be used to construct the query)\n",
    "cluster_name = 'Palomar 5'\n",
    "cluster_ra = 229.0128  # RA of the center of the cluster (in decimal degrees)\n",
    "cluster_dec = -0.182   # Dec of the center of the cluster (in decimal degrees)\n",
    "cluster_radius = 4.0   # Radius of the cluster, in arcminutes\n",
    "cluster_distance = 23000 # approximate distance to your cluster, in units of parsecs\n",
    "\n",
    "query_dered = 'SELECT p.objid, p.dered_u AS u, p.modelMagErr_u as u_err, p.dered_g AS g, p.modelMagErr_g as g_err, '\n",
    "query_dered += 'p.dered_r AS r, p.modelMagErr_r as r_err, p.dered_i AS i, p.modelMagErr_i as i_err, '\n",
    "query_dered += 'p.dered_z AS z, p.modelMagErr_z as z_err '\n",
    "query_dered += 'FROM photoObj p '\n",
    "query_dered += 'JOIN dbo.fGetNearbyObjEq(' + str(cluster_ra) + ', ' + str(cluster_dec) + ', ' + str(cluster_radius) + ') n '\n",
    "query_dered += 'ON p.objid = n.objID '\n",
    "query_dered += 'WHERE p.type = 6 '\n",
    "query_dered += 'AND p.dered_g BETWEEN -10 AND 23 '\n",
    "query_dered += 'AND p.dered_u/p.modelMagErr_u > 30 '\n",
    "query_dered += 'AND p.dered_g/p.modelMagErr_g > 30 '\n",
    "query_dered += 'AND p.dered_r/p.modelMagErr_r > 30 '\n",
    "query_dered += 'AND p.dered_i/p.modelMagErr_i > 30 '\n",
    "query_dered += 'AND p.dered_z/p.modelMagErr_z > 30 '\n",
    "#print(query)   # useful for debugging, remove first # to uncomment\n",
    "\n",
    "# send query to CasJobs\n",
    "stars_dered = CasJobs.executeQuery(query_dered, \"dr14\")\n",
    "\n",
    "stars_dered"
   ]
  },
  {
   "cell_type": "code",
   "execution_count": null,
   "metadata": {
    "collapsed": false
   },
   "outputs": [],
   "source": [
    "color_psf = stars_psf['g']-stars_psf['r']\n",
    "color_err_psf = np.sqrt((stars_psf['g_err']**2) + (stars_psf['r_err']**2))\n",
    "\n",
    "color_dered = stars_dered['g']-stars_dered['r']\n",
    "color_err_dered = np.sqrt((stars_dered['g_err']**2) + (stars_dered['r_err']**2))\n",
    "\n",
    "\n",
    "\n",
    "ebv = 0.1\n",
    "av = 3.2*ebv\n",
    "\n",
    "model_g_dered = np.array(model_g_corr) + av\n",
    "model_gr_dered = np.array(model_color) + ebv\n",
    "print('Done')\n",
    "\n",
    "\n",
    "\n",
    "\n",
    "fig = plt.figure(figsize=(18,12))\n",
    "ax1 = fig.add_subplot(221)\n",
    "ax2 = fig.add_subplot(222)\n",
    "\n",
    "#plt.scatter(color,stars['r'], alpha=0.1)\n",
    "\n",
    "#fig, ax = plt.subplots()\n",
    "#ax.errorbar(x, y, xerr=0.2, yerr=0.4)\n",
    "#plt.show()\n",
    "#plt.figure(figsize=(9,6))\n",
    "\n",
    "ax1.errorbar(color_psf, stars_psf['r'].values, yerr = color_err_psf, xerr=stars_psf['r_err'].values, fmt='mo', alpha=0.2, label=cluster_name)\n",
    "ax2.errorbar(color_dered, stars_dered['r'].values, yerr = color_err_dered, xerr=stars_dered['r_err'].values, fmt='mo', alpha=0.2, label=cluster_name)\n",
    "\n",
    "\n",
    "ax1.axis([-1,2,24,10])\n",
    "\n",
    "ax2.axis([-1,2,24,10])\n",
    "\n",
    "#ax1.plot(model_color,model_g_corr, 'b.', alpha=0.2)\n",
    "ax1.plot(model_gr_dered,model_g_dered, 'b.', alpha=0.2)\n",
    "ax2.plot(model_gr_dered,model_g_dered, 'b.', alpha=0.2)\n",
    "\n",
    "ax1.set_title('PSF Magnitudes')\n",
    "ax1.set_xlabel('g-r')\n",
    "ax1.set_ylabel('r')\n",
    "\n",
    "ax2.set_title('Dereddened model magnitudes')\n",
    "ax2.set_xlabel('g-r')\n",
    "ax2.set_ylabel('r')\n",
    "\n",
    "plt.xlabel('g - r')\n",
    "plt.ylabel('r')\n",
    "plt.legend(numpoints=1)\n",
    "\n",
    "\n",
    "plt.show() "
   ]
  },
  {
   "cell_type": "code",
   "execution_count": null,
   "metadata": {
    "collapsed": true
   },
   "outputs": [],
   "source": []
  }
 ],
 "metadata": {
  "kernelspec": {
   "display_name": "Python 3",
   "language": "python",
   "name": "python3"
  },
  "language_info": {
   "codemirror_mode": {
    "name": "ipython",
    "version": 3
   },
   "file_extension": ".py",
   "mimetype": "text/x-python",
   "name": "python",
   "nbconvert_exporter": "python",
   "pygments_lexer": "ipython3",
   "version": "3.5.3"
  }
 },
 "nbformat": 4,
 "nbformat_minor": 0
}
