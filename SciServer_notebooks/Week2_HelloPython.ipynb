{
 "cells": [
  {
   "cell_type": "markdown",
   "metadata": {},
   "source": [
    "# ASTR 412 - Week2:  \"Hello Python!\"\n",
    "\n",
    "Today we'll learn some basics of Python programming, which we will use next week to interface with the SDSS database."
   ]
  },
  {
   "cell_type": "markdown",
   "metadata": {
    "collapsed": true
   },
   "source": [
    "# Introduction to the SciServer \n",
    "The SciServer provides a means of interacting with astronomical imaging and spectroscopy data from the [Sloan Digital Sky Survey](http://sdss.org).  \n",
    "\n",
    "The following python notebook gives an example of how you can use [SciServer Compute](http://www.sciserver.org/tools/compute/) for your own astronomy research from anywhere with access to the internet. Because of SciServer's unique capabilities, you can access and analyze the vast SDSS dataset in the cloud without downloading anything (including code!) to your local computer.   All you need in order to get started is a web browser!\n",
    "\n",
    "For this course we will be using the programming language Python 3 to interface with the SciServer, although you can also write scripts using R. A complete tutorial to Python 3 can be accessed [here](https://docs.python.org/3/tutorial/).  A shorter tutorial with some basics is provided below.\n",
    "\n",
    "# I. Getting Started with SciServer\n",
    "\n",
    "1. The first thing you need to do is to set up an account with SciServer Compute [here](http://compute.sciserver.org/dashboard/Home/Index).\n",
    "\n",
    "2. Once you are logged in to your account, create a container for your SciServer work.\n",
    "\n",
    "3. Within that container, create a new Python 3 notebook.  This is where you can write and run your analysis.\n",
    "\n",
    "4. Try writing a few lines of code and click the \"play\" button (alternatively, \"Shift+Return\") to run your code:"
   ]
  },
  {
   "cell_type": "markdown",
   "metadata": {},
   "source": [
    "# II. Intro to Python programming\n",
    "\n",
    "#### As some sort of rule, the first thing you ever do when learning a programming language is to print a message saying 'Hello!'...  So let's do that."
   ]
  },
  {
   "cell_type": "code",
   "execution_count": 1,
   "metadata": {
    "collapsed": false
   },
   "outputs": [
    {
     "name": "stdout",
     "output_type": "stream",
     "text": [
      "Hello SciServer!\n",
      "Clearly, text enclosed in parentheses and double-quotes gets printed\n"
     ]
    }
   ],
   "source": [
    "print (\"Hello SciServer!\")\n",
    "\n",
    "print (\"Clearly, text enclosed in parentheses and double-quotes gets printed\")\n",
    "\n",
    "# anything written after a '#' sign is ignored when you run the code\n",
    "# this is a good way to leave notes about what you're doing as you code"
   ]
  },
  {
   "cell_type": "markdown",
   "metadata": {},
   "source": [
    "#### EXPERIMENT:  What happens if you use single-quotes instead of double-quotes?"
   ]
  },
  {
   "cell_type": "code",
   "execution_count": 3,
   "metadata": {
    "collapsed": false
   },
   "outputs": [
    {
     "name": "stdout",
     "output_type": "stream",
     "text": [
      "a case in which this wouldn't work?\n",
      "this is the first part and another part\n"
     ]
    }
   ],
   "source": [
    "print ('a case in which this wouldn\\'t work?')\n",
    "\n",
    "part1 = 'this is the first part '\n",
    "part2 = 'and another part'\n",
    "total = part1+part2\n",
    "print (total)"
   ]
  },
  {
   "cell_type": "markdown",
   "metadata": {},
   "source": [
    "#### Let's make a variable called \"flavor\" and give it a value, say, \"chocolate\":"
   ]
  },
  {
   "cell_type": "code",
   "execution_count": 4,
   "metadata": {
    "collapsed": false
   },
   "outputs": [
    {
     "name": "stdout",
     "output_type": "stream",
     "text": [
      "chocolate\n"
     ]
    }
   ],
   "source": [
    "flavor = 'chocolate'\n",
    "\n",
    "# if you want to print out the value of this variable, don't use quotes.\n",
    "print (flavor)"
   ]
  },
  {
   "cell_type": "markdown",
   "metadata": {},
   "source": [
    "#### EXPERIMENT: What happens if you use quotes to enclose the variable in the print statement above?\n"
   ]
  },
  {
   "cell_type": "code",
   "execution_count": 5,
   "metadata": {
    "collapsed": false
   },
   "outputs": [
    {
     "name": "stdout",
     "output_type": "stream",
     "text": [
      "flavor\n"
     ]
    }
   ],
   "source": [
    "print ('flavor')"
   ]
  },
  {
   "cell_type": "markdown",
   "metadata": {},
   "source": [
    "#### You can print statements that include both normal text and variables as follows:"
   ]
  },
  {
   "cell_type": "code",
   "execution_count": 6,
   "metadata": {
    "collapsed": false
   },
   "outputs": [
    {
     "name": "stdout",
     "output_type": "stream",
     "text": [
      "I would like to have some chocolate ice cream.\n",
      "I would like 2 scoops of ice cream.\n"
     ]
    }
   ],
   "source": [
    "print('I would like to have some {:s} ice cream.'.format(flavor)) # new style for Python 3\n",
    "# {:s} is a placeholder for a string (i.e. text) value\n",
    "# {:f} expects a floating-point (i.e., decimal, non-integer) value\n",
    "# Python 3 removed support for the integer format type, but you can print integers with {:.0f}\n",
    "scoops = 2\n",
    "print('I would like {:.0f} scoops of ice cream.'.format(scoops))"
   ]
  },
  {
   "cell_type": "markdown",
   "metadata": {},
   "source": [
    "#### You can create a list of values of any type as follows:"
   ]
  },
  {
   "cell_type": "code",
   "execution_count": 7,
   "metadata": {
    "collapsed": false
   },
   "outputs": [
    {
     "name": "stdout",
     "output_type": "stream",
     "text": [
      "('We have the following flavors in-stock: ', ['chocolate', 'vanilla', 'bubblegum', 'rocky_road'])\n",
      "()\n",
      "('The total number of flavors is: ', 4)\n"
     ]
    }
   ],
   "source": [
    "flavors_instock = ['chocolate', 'vanilla', 'bubblegum', 'rocky_road'] \n",
    "\n",
    "# Note on \"rocky_road\":  your life will be easier in python if you use underscores instead of spaces\n",
    "# BUT you don't have to do that...  'rocky road' will be accepted as a string, too.\n",
    "\n",
    "print (\"We have the following flavors in-stock: \", flavors_instock)\n",
    "print () # this prints a blank line\n",
    "print (\"The total number of flavors is: \", len(flavors_instock)) # len() returns the length of an array"
   ]
  },
  {
   "cell_type": "markdown",
   "metadata": {},
   "source": [
    "#### You can then verify whether or not certain things are in your list:\n"
   ]
  },
  {
   "cell_type": "code",
   "execution_count": 8,
   "metadata": {
    "collapsed": false
   },
   "outputs": [
    {
     "name": "stdout",
     "output_type": "stream",
     "text": [
      "Is vanilla in stock?\n"
     ]
    },
    {
     "data": {
      "text/plain": [
       "True"
      ]
     },
     "execution_count": 8,
     "metadata": {},
     "output_type": "execute_result"
    }
   ],
   "source": [
    "flavor_iwant = 'vanilla'\n",
    "\n",
    "# this statement will check all of the flavors in stock to see if the one you want is listed\n",
    "print('Is {:s} in stock?'.format(flavor_iwant))\n",
    "flavor_iwant in flavors_instock"
   ]
  },
  {
   "cell_type": "code",
   "execution_count": 9,
   "metadata": {
    "collapsed": false
   },
   "outputs": [
    {
     "name": "stdout",
     "output_type": "stream",
     "text": [
      "Is blue_moon in stock?\n"
     ]
    },
    {
     "data": {
      "text/plain": [
       "False"
      ]
     },
     "execution_count": 9,
     "metadata": {},
     "output_type": "execute_result"
    }
   ],
   "source": [
    "flavor_ireallywant = 'blue_moon'\n",
    "print('Is {:s} in stock?'.format(flavor_ireallywant))\n",
    "flavor_ireallywant in flavors_instock"
   ]
  },
  {
   "cell_type": "code",
   "execution_count": 10,
   "metadata": {
    "collapsed": false
   },
   "outputs": [
    {
     "data": {
      "text/plain": [
       "True"
      ]
     },
     "execution_count": 10,
     "metadata": {},
     "output_type": "execute_result"
    }
   ],
   "source": [
    "flavor_iwant in flavors_instock or flavor_ireallywant in flavors_instock"
   ]
  },
  {
   "cell_type": "markdown",
   "metadata": {},
   "source": [
    "#### Using \"IF\" statements for decision making:\n",
    "\n",
    "Let's say you want to check if the ice cream you really want is in stock before ordering.  You can use the following logic:\n"
   ]
  },
  {
   "cell_type": "code",
   "execution_count": 11,
   "metadata": {
    "collapsed": false
   },
   "outputs": [
    {
     "name": "stdout",
     "output_type": "stream",
     "text": [
      "I guess I will have vanilla\n"
     ]
    }
   ],
   "source": [
    "\"\"\"\n",
    "Note: You can use triple quotes like '#' signs, to leave comments!\n",
    "\n",
    "Here is the structure of an IF loop:\n",
    "\n",
    "if <condition>:\n",
    "    <execute this code>\n",
    "\n",
    "\"\"\"\n",
    "if flavor_ireallywant in flavors_instock:    \n",
    "    # indentation (one hit of the tab key) indicates everything contained in a loop\n",
    "    print(\"I would like to order {:s}\".format(flavor_reallywant))\n",
    "    \n",
    "else:   \n",
    "    \n",
    "    # if the IF statement doesn't hold, then the following loop will run\n",
    "    print(\"I guess I will have {:s}\".format(flavor_iwant))\n",
    "    "
   ]
  },
  {
   "cell_type": "markdown",
   "metadata": {},
   "source": [
    "#### EXPERIMENT:  Can you improve the code from the cell above, so that the computer first checks whether vanilla is in-stock before ordering it as a replacement?"
   ]
  },
  {
   "cell_type": "code",
   "execution_count": 12,
   "metadata": {
    "collapsed": false
   },
   "outputs": [
    {
     "name": "stdout",
     "output_type": "stream",
     "text": [
      "I guess I will have vanilla\n"
     ]
    }
   ],
   "source": [
    "if flavor_ireallywant in flavors_instock:    \n",
    "    # indentation (one hit of the tab key) indicates everything contained in a loop\n",
    "    print('I would like to order {:s}'.format(flavor_ireallywant))\n",
    "elif flavor_iwant in flavors_instock:\n",
    "    \n",
    "    # if the IF statement doesn't hold, then the following loop will run\n",
    "    print('I guess I will have {:s}'.format(flavor_iwant))\n",
    "else:\n",
    "    print (\"out of luck!\")\n",
    "    print (\"we have no \", flavor_iwant)"
   ]
  },
  {
   "cell_type": "markdown",
   "metadata": {},
   "source": [
    "#### You might find it useful to use a \"FOR\" loop to run the same command on every item in a list\n"
   ]
  },
  {
   "cell_type": "code",
   "execution_count": 13,
   "metadata": {
    "collapsed": false
   },
   "outputs": [
    {
     "name": "stdout",
     "output_type": "stream",
     "text": [
      "Let's see what they have...\n",
      "\n",
      "()\n",
      "chocolate\n",
      "()\n",
      "vanilla\n",
      "OK - well, at least they have my back-up choice.\n",
      "()\n",
      "bubblegum\n",
      "()\n",
      "rocky_road\n"
     ]
    }
   ],
   "source": [
    "# let's scroll through the whole list and see if one matches up with our preferred choice...\n",
    "\n",
    "print (\"Let's see what they have...\\n\")\n",
    "\n",
    "gotit = 0 # let's keep a placeholder so we can remember if they have what we're looking for\n",
    "        \n",
    "for flavor in flavors_instock: # this will run through every item in the list, one by one\n",
    "    print () # put a blank space between each flavor\n",
    "    print (flavor)\n",
    "    \n",
    "    if flavor == flavor_ireallywant:\n",
    "        print (\"YAY - they have my absolute favorite flavor!\")\n",
    "        gotit==1  # update the placeholder\n",
    "        \n",
    "    elif flavor == flavor_iwant:  # \"elif\" means \"otherwise, if...\"\n",
    "        print (\"OK - well, at least they have my back-up choice.\")    "
   ]
  },
  {
   "cell_type": "markdown",
   "metadata": {},
   "source": [
    "#### EXPERIMENT:  Can you improve the code in the cell above, so that it automatically alerts you if your backup choice is unavailable?"
   ]
  },
  {
   "cell_type": "code",
   "execution_count": 14,
   "metadata": {
    "collapsed": false
   },
   "outputs": [
    {
     "name": "stdout",
     "output_type": "stream",
     "text": [
      "My backup flavor is in stock\n",
      "['chocolate', 'vanilla', 'bubblegum', 'rocky_road']\n",
      "()\n",
      "('chocolate', 0)\n",
      "()\n",
      "('vanilla', 1)\n",
      "OK - well, at least they have my back-up choice.\n",
      "()\n",
      "('bubblegum', 2)\n",
      "()\n",
      "('rocky_road', 3)\n"
     ]
    }
   ],
   "source": [
    "gotit = 0 # let's keep a placeholder so we can remember if they have what we're looking for\n",
    "if flavor_iwant in flavors_instock:\n",
    "    print (\"My backup flavor is in stock\")\n",
    "\n",
    "print (flavors_instock)\n",
    "counter=-1\n",
    "\n",
    "for flavor in flavors_instock: # this will run through every item in the list, one by one\n",
    "    print () # put a blank space between each flavor\n",
    "    counter+=1\n",
    "    print (flavor, counter)\n",
    "    \n",
    "    if flavor == flavor_ireallywant:\n",
    "        print (\"YAY - they have my absolute favorite flavor!\")\n",
    "        gotit==1  # update the placeholder\n",
    "        \n",
    "    elif flavor == flavor_iwant:  # \"elif\" means \"otherwise, if...\"\n",
    "        print (\"OK - well, at least they have my back-up choice.\")"
   ]
  },
  {
   "cell_type": "markdown",
   "metadata": {},
   "source": [
    "#### Here is an example of an \"If-Elif-Else\" loop:\n"
   ]
  },
  {
   "cell_type": "code",
   "execution_count": 15,
   "metadata": {
    "collapsed": false
   },
   "outputs": [
    {
     "name": "stdout",
     "output_type": "stream",
     "text": [
      "Holy mackerel, we might as well start a dog hostel!\n"
     ]
    }
   ],
   "source": [
    "dogs = ['willie', 'hootz', 'peso', 'monty', 'juno', 'turkey']\n",
    "\n",
    "if len(dogs) >= 5:\n",
    "    print(\"Holy mackerel, we might as well start a dog hostel!\")\n",
    "elif len(dogs) >= 3:\n",
    "    print(\"Wow, we have a lot of dogs here!\")\n",
    "else:\n",
    "    print(\"Okay, this is a reasonable number of dogs.\")"
   ]
  },
  {
   "cell_type": "markdown",
   "metadata": {},
   "source": [
    "#### One way to keep track of what item you're on, as you move through a list is to add a counter:"
   ]
  },
  {
   "cell_type": "code",
   "execution_count": 16,
   "metadata": {
    "collapsed": false
   },
   "outputs": [
    {
     "name": "stdout",
     "output_type": "stream",
     "text": [
      "(0, 'willie', 'willie')\n",
      "(1, 'hootz', 'hootz')\n",
      "(2, 'peso', 'peso')\n",
      "(3, 'monty', 'monty')\n",
      "(4, 'juno', 'juno')\n",
      "(5, 'turkey', 'turkey')\n",
      "('Hootz is dog number ', 2)\n"
     ]
    }
   ],
   "source": [
    "counter = -1 # python's counting method start with 0, not 1... so it helps to start thinking of \"-1\" as \"0\"\n",
    "\n",
    "for dog in dogs:\n",
    "    counter+=1  # adds one to the variable 'counter'\n",
    "    print (counter, dog, dogs[counter])  # see what I did there at the end?\n",
    "    if dog == \"hootz\":\n",
    "        hootznum=counter+1\n",
    "print (\"Hootz is dog number \", hootznum)"
   ]
  },
  {
   "cell_type": "markdown",
   "metadata": {},
   "source": [
    "#### Counters can be useful if you want to keep track of parallel lists of the same length that contain related information. For instance, say you wanted to keep track of other information about the ice cream stock -- like what fraction of each container is remaining:"
   ]
  },
  {
   "cell_type": "code",
   "execution_count": 17,
   "metadata": {
    "collapsed": false
   },
   "outputs": [
    {
     "name": "stdout",
     "output_type": "stream",
     "text": [
      "Let's see which flavors need to be ordered...\n",
      "()\n",
      "Number, Flavor, Level\n",
      " -----------------------------\n",
      "(0, 'chocolate', 1.0)\n",
      "(1, 'vanilla', 0.5)\n",
      "(2, 'bubblegum', 0.8)\n",
      "(3, 'rocky_road', 0.1)\n",
      "()\n",
      "()\n",
      "Number, Flavor, Level\n",
      " -----------------------------\n",
      "0 chocolate    1.0\n",
      "1 vanilla      0.5\n",
      "2 bubblegum    0.8\n",
      "3 rocky_road   0.1\n"
     ]
    }
   ],
   "source": [
    "flavors_instock = ['chocolate', 'vanilla', 'bubblegum', 'rocky_road'] \n",
    "flavors_level = [1.0, 0.5, 0.8, 0.1]  # this says only the chocolate is 100% full\n",
    "\n",
    "print (\"Let's see which flavors need to be ordered...\")\n",
    "print ()\n",
    "print (\"Number, Flavor, Level\")\n",
    "print (\" -----------------------------\")\n",
    "\n",
    "counter = -1\n",
    "for flavor in flavors_instock:\n",
    "    counter+=1\n",
    "    print (counter, flavors_instock[counter], flavors_level[counter])\n",
    "    \n",
    "print ()\n",
    "# Or if you want the printing to look a bit nicer...\n",
    "print ()\n",
    "print (\"Number, Flavor, Level\")\n",
    "print (\" -----------------------------\")\n",
    "counter = -1\n",
    "for flavor in flavors_instock:\n",
    "    counter+=1\n",
    "    # you can force the spacing and decimal precision of each printed value\n",
    "    print(\"{0:.0f} {1:12s} {2:3.1f}\".format(counter,flavors_instock[counter],flavors_level[counter]))"
   ]
  },
  {
   "cell_type": "markdown",
   "metadata": {},
   "source": [
    "#### EXPERIMENT: Can you improve the code above so that it automatically alerts you to which ice cream needs to be re-ordered?\n",
    "It may help to know these operators:\n",
    "\n",
    "equal (==)\n",
    "\n",
    "not equal (!=)\n",
    "\n",
    "greater than (>)\n",
    "\n",
    "greater than or equal to (>=)\n",
    "\n",
    "less than (<)\n",
    "\n",
    "less than or equal to (<=)"
   ]
  },
  {
   "cell_type": "code",
   "execution_count": 18,
   "metadata": {
    "collapsed": false
   },
   "outputs": [
    {
     "name": "stdout",
     "output_type": "stream",
     "text": [
      "()\n",
      "Number, Flavor, Level\n",
      " -----------------------------\n",
      "0 chocolate    1.0\n",
      "1 vanilla      0.5\n",
      "2 bubblegum    0.8\n",
      "3 rocky_road   0.1\n",
      "('we need to order more ', 'rocky_road')\n"
     ]
    }
   ],
   "source": [
    "print ()\n",
    "print (\"Number, Flavor, Level\")\n",
    "print (\" -----------------------------\")\n",
    "counter = -1\n",
    "min_level = 0.25\n",
    "for flavor in flavors_instock:\n",
    "    counter+=1\n",
    "    # you can force the spacing and decimal precision of each printed value\n",
    "    print (\"{0:.0f} {1:12s} {2:3.1f}\".format(counter, flavors_instock[counter], flavors_level[counter]))\n",
    "\n",
    "    if flavors_level[counter]< min_level:\n",
    "        print (\"we need to order more \", flavors_instock[counter])"
   ]
  },
  {
   "cell_type": "markdown",
   "metadata": {},
   "source": [
    "### The previous exercise has probably led you to discover that you can use Python as a calculator!"
   ]
  },
  {
   "cell_type": "code",
   "execution_count": 19,
   "metadata": {
    "collapsed": false
   },
   "outputs": [
    {
     "name": "stdout",
     "output_type": "stream",
     "text": [
      "Let's try some math...\n",
      "\n",
      "(3, 4, 7)\n",
      "7\n",
      "()\n",
      "Here's our calculation:\n",
      "3 + 4 = 7\n"
     ]
    }
   ],
   "source": [
    "print (\"Let's try some math...\\n\") # the \\n at the end creates a line break\n",
    "a = 3\n",
    "b = 4\n",
    "c = a+b\n",
    "\n",
    "print (a,b,c)\n",
    "print (c)\n",
    "\n",
    "print ()  # this prints a blank line\n",
    "\n",
    "# these numbers are integers, so we can simply format the print statement placeholder variables as \"{.0f}\"\n",
    "print (\"Here's our calculation:\")\n",
    "print ('{0:.0f} + {1:.0f} = {2:.0f}'.format(a,b,c))"
   ]
  },
  {
   "cell_type": "markdown",
   "metadata": {},
   "source": [
    "#### EXPERIMENT:  Try calculating and printing some decimal ('floating point') numbers.\n"
   ]
  },
  {
   "cell_type": "code",
   "execution_count": 20,
   "metadata": {
    "collapsed": false
   },
   "outputs": [
    {
     "name": "stdout",
     "output_type": "stream",
     "text": [
      "1.4142136\n"
     ]
    }
   ],
   "source": [
    "print('{:.7f}'.format(1.41421356237))"
   ]
  },
  {
   "cell_type": "markdown",
   "metadata": {},
   "source": [
    "#### Most mathematical operations don't come automatically loaded into Python.  If you need special operations (e.g., log10, pi, square root), you'll need to import them from python's math library."
   ]
  },
  {
   "cell_type": "code",
   "execution_count": 21,
   "metadata": {
    "collapsed": false
   },
   "outputs": [
    {
     "name": "stdout",
     "output_type": "stream",
     "text": [
      "If this line prints, there were no errors, and pi was successfully imported!\n",
      "3.14159265359\n"
     ]
    }
   ],
   "source": [
    "# import pi from the python math library\n",
    "from math import pi\n",
    "\n",
    "print (\"If this line prints, there were no errors, and pi was successfully imported!\")\n",
    "print (pi)"
   ]
  },
  {
   "cell_type": "code",
   "execution_count": 22,
   "metadata": {
    "collapsed": false
   },
   "outputs": [
    {
     "name": "stdout",
     "output_type": "stream",
     "text": [
      "Let's print out pi to only 5 decimal places...\n",
      "3.14159\n"
     ]
    }
   ],
   "source": [
    "print (\"Let's print out pi to only 5 decimal places...\")\n",
    "\n",
    "# format the print statement to truncate pi at 5 decimal places in floating point \"%f\" format\n",
    "print (\"{:.5f}\".format(pi))"
   ]
  },
  {
   "cell_type": "code",
   "execution_count": 23,
   "metadata": {
    "collapsed": false
   },
   "outputs": [
    {
     "name": "stdout",
     "output_type": "stream",
     "text": [
      "10\n",
      "3.16227766017\n"
     ]
    }
   ],
   "source": [
    "print (abs(-10))\n",
    "\n",
    "from math import sqrt\n",
    "print (sqrt(10))"
   ]
  },
  {
   "cell_type": "markdown",
   "metadata": {},
   "source": [
    "#### Now for a short tutorial on Numerical Python (NumPy), which is an essential tool for data analysis"
   ]
  },
  {
   "cell_type": "code",
   "execution_count": 24,
   "metadata": {
    "collapsed": false
   },
   "outputs": [
    {
     "name": "stdout",
     "output_type": "stream",
     "text": [
      "('empty = ', array([], dtype=float64))\n",
      "('x = ', array([0, 1, 2, 3, 4]))\n",
      "('zeros = ', array([ 0.,  0.,  0.,  0.,  0.]))\n",
      "('noise = ', array([-1.84,  1.68, -0.66, -0.61, -1.1 ]))\n"
     ]
    }
   ],
   "source": [
    "# import the numpy module, and give it a nickname \"np\"\n",
    "import numpy as np\n",
    "\n",
    "# The basic structure of the Numpy module is the Numpy Array.\n",
    "# Numpy arrays were invented to mimic the functionality of\n",
    "# MATLAB arrays, and also IDL arrays.\n",
    "\n",
    "empty = np.array([]) # Empty numpy array\n",
    "x = np.arange(5) # Creates an array of 5 intergers, beginning at 0\n",
    "zeros = np.zeros(5) # Array of five zeros \n",
    "noise = np.random.randn(5) # Array of five Gaussian random numbers\n",
    "\n",
    "print ('empty = ', empty)\n",
    "print ('x = ', x)\n",
    "print ('zeros = ', zeros)\n",
    "print ('noise = ', np.round(noise,2))"
   ]
  },
  {
   "cell_type": "code",
   "execution_count": 25,
   "metadata": {
    "collapsed": false
   },
   "outputs": [
    {
     "name": "stdout",
     "output_type": "stream",
     "text": [
      "('x + x =', array([0, 2, 4, 6, 8]))\n",
      "('x + noise =', array([-1.84,  2.68,  1.34,  2.39,  2.9 ]))\n"
     ]
    }
   ],
   "source": [
    "# By default, arrays add element-by-element, and they have\n",
    "# powerful indexing and masking functionality\n",
    "print ('x + x =', x + x)\n",
    "print ('x + noise =', np.round(x + noise, 2))"
   ]
  },
  {
   "cell_type": "code",
   "execution_count": 26,
   "metadata": {
    "collapsed": false
   },
   "outputs": [
    {
     "name": "stdout",
     "output_type": "stream",
     "text": [
      "('w = ', array([False, False, False, False,  True], dtype=bool))\n",
      "('x = ', array([ 0,  1,  2,  3, 24]))\n",
      "('x[w] = ', array([24]))\n"
     ]
    }
   ],
   "source": [
    "# One of the most common tasks is selecting data based\n",
    "# on boolean conditions\n",
    "w = x > 3        \n",
    "x[w] = x[w] + 20 # (Add 20 to all values greater than 3)\n",
    "print ('w = ', w)\n",
    "print ('x = ', x)\n",
    "print ('x[w] = ', x[w])"
   ]
  },
  {
   "cell_type": "code",
   "execution_count": 27,
   "metadata": {
    "collapsed": false
   },
   "outputs": [
    {
     "name": "stdout",
     "output_type": "stream",
     "text": [
      "(100, 100)\n",
      "0\n",
      "No detections, need more observing time.\n"
     ]
    }
   ],
   "source": [
    "## Note that Python does not use brackets, braces, or parentheses, \n",
    "# or even \"end\" statements in it control flows.\n",
    "# Everything is controled using indentation.  You are\n",
    "# free to pick your own level of indendation, but always \n",
    "# use 4 spaces.\n",
    "#\n",
    "# For example, \n",
    "# Suppose we want to iterate through a 2D array and check \n",
    "# the value of each element, the code looks like this:\n",
    "\n",
    "noise = np.random.randn(100,100) # 2D image of Gaussian noise\n",
    "detections = 0\n",
    "print (noise.shape[0], noise.shape[1])\n",
    "print (np.sum(noise > 4))\n",
    "for i in range(noise.shape[0]):\n",
    "    for j in range(noise.shape[1]):\n",
    "        if noise[i,j] > 4:\n",
    "            detections += 1\n",
    "            print ('4 Sigma Detection! ', noise[i,j])\n",
    "if detections==0:\n",
    "    print ('No detections, need more observing time.')"
   ]
  },
  {
   "cell_type": "markdown",
   "metadata": {},
   "source": [
    "#### If you need to do the same calculation over and over again, you may want to define a function to do that for you:"
   ]
  },
  {
   "cell_type": "code",
   "execution_count": 28,
   "metadata": {
    "collapsed": false
   },
   "outputs": [
    {
     "name": "stdout",
     "output_type": "stream",
     "text": [
      "10\n",
      "10\n"
     ]
    }
   ],
   "source": [
    "# Let's say we want to calculate 2x some number:\n",
    "\n",
    "number = 5\n",
    "print (2*5)\n",
    "\n",
    "# This could also be written as a function\n",
    "\n",
    "def double(x):\n",
    "    return 2*x\n",
    "\n",
    "print (double(5))"
   ]
  },
  {
   "cell_type": "markdown",
   "metadata": {},
   "source": [
    "#### EXPERIMENT:  Create a numpy array of some length, and use a function to print the square root of each number in the array."
   ]
  },
  {
   "cell_type": "code",
   "execution_count": 29,
   "metadata": {
    "collapsed": false
   },
   "outputs": [
    {
     "name": "stdout",
     "output_type": "stream",
     "text": [
      "0.0\n",
      "1.0\n",
      "1.41421356237\n",
      "1.73205080757\n",
      "2.0\n",
      "2.2360679775\n",
      "2.44948974278\n",
      "2.64575131106\n",
      "2.82842712475\n",
      "3.0\n",
      "3.16227766017\n",
      "3.31662479036\n",
      "3.46410161514\n",
      "3.60555127546\n",
      "3.74165738677\n",
      "3.87298334621\n",
      "4.0\n",
      "4.12310562562\n",
      "4.24264068712\n",
      "4.35889894354\n",
      "4.472135955\n",
      "4.58257569496\n",
      "4.69041575982\n",
      "4.79583152331\n",
      "4.89897948557\n",
      "5.0\n",
      "5.09901951359\n",
      "5.19615242271\n",
      "5.29150262213\n",
      "5.38516480713\n",
      "5.47722557505\n",
      "5.56776436283\n",
      "5.65685424949\n",
      "5.74456264654\n",
      "5.83095189485\n",
      "5.9160797831\n",
      "6.0\n",
      "6.0827625303\n",
      "6.16441400297\n",
      "6.2449979984\n",
      "6.32455532034\n",
      "6.40312423743\n",
      "6.48074069841\n",
      "6.5574385243\n",
      "6.63324958071\n",
      "6.7082039325\n",
      "6.78232998313\n",
      "6.8556546004\n",
      "6.92820323028\n",
      "7.0\n",
      "7.07106781187\n",
      "7.14142842854\n",
      "7.21110255093\n",
      "7.28010988928\n",
      "7.34846922835\n",
      "7.4161984871\n",
      "7.48331477355\n",
      "7.54983443527\n",
      "7.61577310586\n",
      "7.68114574787\n",
      "7.74596669241\n",
      "7.81024967591\n",
      "7.87400787401\n",
      "7.93725393319\n",
      "8.0\n",
      "8.0622577483\n",
      "8.12403840464\n",
      "8.18535277187\n",
      "8.24621125124\n",
      "8.30662386292\n",
      "8.36660026534\n",
      "8.42614977318\n",
      "8.48528137424\n",
      "8.54400374532\n",
      "8.60232526704\n",
      "8.66025403784\n",
      "8.71779788708\n",
      "8.77496438739\n",
      "8.83176086633\n",
      "8.88819441732\n",
      "8.94427191\n",
      "9.0\n",
      "9.05538513814\n",
      "9.11043357914\n",
      "9.16515138991\n",
      "9.21954445729\n",
      "9.2736184955\n",
      "9.32737905309\n",
      "9.38083151965\n",
      "9.43398113206\n",
      "9.48683298051\n",
      "9.53939201417\n",
      "9.59166304663\n",
      "9.64365076099\n",
      "9.69535971483\n",
      "9.74679434481\n",
      "9.79795897113\n",
      "9.8488578018\n",
      "9.89949493661\n",
      "9.94987437107\n",
      "[ 0.          1.          1.41421356  1.73205081  2.          2.23606798\n",
      "  2.44948974  2.64575131  2.82842712  3.          3.16227766  3.31662479\n",
      "  3.46410162  3.60555128  3.74165739  3.87298335  4.          4.12310563\n",
      "  4.24264069  4.35889894  4.47213595  4.58257569  4.69041576  4.79583152\n",
      "  4.89897949  5.          5.09901951  5.19615242  5.29150262  5.38516481\n",
      "  5.47722558  5.56776436  5.65685425  5.74456265  5.83095189  5.91607978\n",
      "  6.          6.08276253  6.164414    6.244998    6.32455532  6.40312424\n",
      "  6.4807407   6.55743852  6.63324958  6.70820393  6.78232998  6.8556546\n",
      "  6.92820323  7.          7.07106781  7.14142843  7.21110255  7.28010989\n",
      "  7.34846923  7.41619849  7.48331477  7.54983444  7.61577311  7.68114575\n",
      "  7.74596669  7.81024968  7.87400787  7.93725393  8.          8.06225775\n",
      "  8.1240384   8.18535277  8.24621125  8.30662386  8.36660027  8.42614977\n",
      "  8.48528137  8.54400375  8.60232527  8.66025404  8.71779789  8.77496439\n",
      "  8.83176087  8.88819442  8.94427191  9.          9.05538514  9.11043358\n",
      "  9.16515139  9.21954446  9.2736185   9.32737905  9.38083152  9.43398113\n",
      "  9.48683298  9.53939201  9.59166305  9.64365076  9.69535971  9.74679434\n",
      "  9.79795897  9.8488578   9.89949494  9.94987437]\n"
     ]
    }
   ],
   "source": [
    "myarray = [2,6,3,5,7,8]\n",
    "\n",
    "#import numpy as np\n",
    "\n",
    "from numpy import sqrt\n",
    "#from math import sqrt\n",
    "\n",
    "data = np.arange(100)\n",
    "#print (data)\n",
    "\n",
    "# let's define a function\n",
    "def squareroot_hard(data):\n",
    "    \n",
    "    #for d in range(0,len(data)):\n",
    "    #    print (sqrt(data[d]))\n",
    "     \n",
    "    for d in data:\n",
    "        print (sqrt(d))\n",
    "        \n",
    "    return(sqrt(data))\n",
    "\n",
    "squareroot_hard(data)\n",
    "\n",
    "\n",
    "\n",
    "def squareroot_easy(data):\n",
    "    return(sqrt(data))\n",
    "\n",
    "print (squareroot_easy(data))"
   ]
  },
  {
   "cell_type": "code",
   "execution_count": null,
   "metadata": {
    "collapsed": true
   },
   "outputs": [],
   "source": []
  },
  {
   "cell_type": "code",
   "execution_count": null,
   "metadata": {
    "collapsed": true
   },
   "outputs": [],
   "source": []
  }
 ],
 "metadata": {
  "kernelspec": {
   "display_name": "Python [Root]",
   "language": "python",
   "name": "Python [Root]"
  },
  "language_info": {
   "codemirror_mode": {
    "name": "ipython",
    "version": 2
   },
   "file_extension": ".py",
   "mimetype": "text/x-python",
   "name": "python",
   "nbconvert_exporter": "python",
   "pygments_lexer": "ipython2",
   "version": "2.7.12"
  }
 },
 "nbformat": 4,
 "nbformat_minor": 0
}
