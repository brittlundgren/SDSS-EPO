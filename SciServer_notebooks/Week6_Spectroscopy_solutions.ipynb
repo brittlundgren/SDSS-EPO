{
 "cells": [
  {
   "cell_type": "markdown",
   "metadata": {},
   "source": [
    "# Week 6: Spectroscopic Identification and Redshift Determination\n",
    "\n",
    "In this activity you will learn how to spectroscopically identify stars, galaxies, and quasars in the SDSS.  We will then use the locations of prominent emission and absorption lines to determine the redshifts of distant galaxies, quasars, and intergalactic gas clouds, and the surface temperatures of stars in our own Milky Way.\n",
    "\n",
    "Before we begin, please review [this information about the SDSS' optical spectroscopy](http://www.sdss.org/dr16/spectro/spectro_basics/).\n"
   ]
  },
  {
   "cell_type": "code",
   "execution_count": 6,
   "metadata": {
    "collapsed": false
   },
   "outputs": [
    {
     "name": "stdout",
     "output_type": "stream",
     "text": [
      "All libraries imported\n",
      "Settings applied\n"
     ]
    }
   ],
   "source": [
    "# Import all libraries needed for this notebook, then apply some settings\n",
    "import SciServer.CasJobs as CasJobs # query with CasJobs\n",
    "import numpy as np                  # standard Python lib for math ops\n",
    "import pandas                       # data manipulation package\n",
    "import matplotlib.pyplot as plt     # another graphing package\n",
    "import os, imp\n",
    "\n",
    "try:\n",
    "    imp.find_module('astroML')\n",
    "    found = True\n",
    "except ImportError:\n",
    "    found = False\n",
    "    os.system(\"pip install astroML\")\n",
    "import astroML\n",
    "from astroML.datasets import fetch_sdss_spectrum\n",
    "\n",
    "from astropy.io import ascii\n",
    "print('All libraries imported')\n",
    "# ensure columns get written completely in notebook\n",
    "pandas.set_option('display.max_colwidth', -1)\n",
    "# do *not* show python warnings \n",
    "import warnings\n",
    "warnings.filterwarnings('ignore')\n",
    "print('Settings applied')"
   ]
  },
  {
   "cell_type": "markdown",
   "metadata": {},
   "source": [
    "## Spectral morphologies of stars, galaxies, and quasars:\n",
    "\n",
    "The [SDSS Skyserver](http://skyserver.sdss.org/public/en/tools/chart/navi.aspx) provides a simple interface for exploring the images and spectra of objects in the SDSS.  \n",
    "\n",
    "In order to get a quick feel for the spectroscopic properties of stars, take some time to navigate the Skyserver, starting at the following location:\n",
    "\n",
    "RA = 178.91,  Dec = 35.0\n",
    "\n",
    "Try selecting only objects with spectra, and use the EXPLORE feature to explore the images and spectra of the wide variety of objects in the field.  Consider the following:\n",
    "\n",
    "- What are the defining characteristics of quasars (also referred to as quasi-stellar objects, QSOs), stars, and galaxies?\n",
    "- How do the images of stars, galaxies, and quasars compare?\n",
    "- How does the color of the object compare with the general shape of the object's spectrum?\n",
    "- How do the spectra of stars, galaxies, and quasars compare?"
   ]
  },
  {
   "cell_type": "markdown",
   "metadata": {},
   "source": [
    "\n",
    "## Fetching and plotting SDSS spectra\n",
    "\n",
    "In the next section, we will download SDSS spectra to examine them more carefully.  We will use a built-in python package from a data-mining and machine-learning library for astronomy called [astroML](http://www.astroml.org/index.html).  In order to plot a single spectrum, you just need to provide the SDSS plate, fiber, and MJD.\n",
    "\n",
    "A spectrum from SDSS-I/II will be one of 640 fibers on a plate. Let's start with a classic plate: 274.  Try picking a random fiber number on the plate and see what you find."
   ]
  },
  {
   "cell_type": "code",
   "execution_count": 7,
   "metadata": {
    "collapsed": false
   },
   "outputs": [
    {
     "name": "stdout",
     "output_type": "stream",
     "text": [
      "Downloading http://das.sdss.org/spectro/1d_26/0274/1d/spSpec-51913-0274-102.fit\n",
      "[========================================]  182.8kb / 182.8kb   \n",
      "caching to /home/idies/astroML_data/SDSSspec/0274/spSpec-51913-0274-102.fit\n"
     ]
    }
   ],
   "source": [
    "# http://www.astroml.org/user_guide/datasets.html#sdss-data\n",
    "\n",
    "plate = 274\n",
    "fiber = 102\n",
    "mjd = 51913\n",
    "spec = fetch_sdss_spectrum(plate=plate,fiber=fiber,mjd=mjd)\n"
   ]
  },
  {
   "cell_type": "code",
   "execution_count": 8,
   "metadata": {
    "collapsed": false
   },
   "outputs": [
    {
     "data": {
      "image/png": "[encoded data removed]",
      "text/plain": [
       "<Figure size 432x288 with 1 Axes>"
      ]
     },
     "metadata": {
      "needs_background": "light"
     },
     "output_type": "display_data"
    }
   ],
   "source": [
    "#------------------------------------------------------------\n",
    "# Plot the resulting spectrum\n",
    "#\n",
    "# http://www.astroml.org/examples/datasets/plot_sdss_spectrum.html\n",
    "#locals()['mjd']\n",
    "ax = plt.axes()\n",
    "ax.plot(spec.wavelength(), spec.spectrum, '-k', label='spectrum')\n",
    "ax.plot(spec.wavelength(), spec.error, '-', color='r', label='error')\n",
    "\n",
    "ax.legend(loc=4)\n",
    "\n",
    "ax.set_title('Plate = {0:.0f}, MJD = {1:.0f}, Fiber = {2:.0f}'.format(locals()['plate'],locals()['mjd'],locals()['fiber']))\n",
    "\n",
    "ax.set_xlabel(r'$\\lambda (\\AA)$')\n",
    "ax.set_ylabel('Flux')\n",
    "ax.axis([6500,7500, -5, 20])\n",
    "\n",
    "plt.show()"
   ]
  },
  {
   "cell_type": "markdown",
   "metadata": {},
   "source": [
    "## Determining the redshifts of objects\n",
    "\n",
    "Prominent spectral emission lines can be used to determine the redshift of the object.  Below are some links to commonly observed transitions in galaxies and quasars.  \n",
    "\n",
    "- http://classic.sdss.org/dr7/algorithms/linestable.html\n",
    "- http://www.sdss.org/dr16/spectro/spectro_basics/#vacuum\n",
    "\n",
    "Depending on their surface temperature, stars will exhibit a range of absorption lines as well:\n",
    "\n",
    "- http://skyserver.sdss.org/public/en/proj/advanced/spectraltypes/lines.aspx#spectab\n",
    "\n",
    "\n",
    "The wavelengths of the provided lines are given in Angstroms and measured in the rest (laboratory) frame.  The spectra you are examining may be distant quasars or galaxies.  If so, the lines will appear redshifted, according to the relation:\n",
    "\n",
    "$\\lambda_{observed} = \\lambda_{rest}\\times(1+z)$\n",
    "\n",
    "where $z$ is the redshift of the object.\n",
    "\n",
    "\n",
    "\n",
    "Try overplotting on your spectrum some of the most prominent lines.  If they don't appear to line up with prominent features in the spectrum, try redshifting your line markers until they appear to match the features in the spectrum.\n",
    "\n",
    "The following links may be useful as you add text annotations or arrows to your plot:\n",
    "- http://matplotlib.org/users/text_intro.html\n",
    "- http://matplotlib.org/examples/pylab_examples/arrow_simple_demo.html\n",
    "\n",
    "When you think you've correctly determined the redshift for your object, you can use the [SEARCH](http://skyserver.sdss.org/public/en/tools/explore/summary.aspx) function in the SkyServer to check your result against the SDSS determination. ([Here](http://www.sdss.org/dr16/algorithms/redshifts/) are some gory details about the SDSS spectroscopic pipeline, if you're interested.)"
   ]
  },
  {
   "cell_type": "code",
   "execution_count": 31,
   "metadata": {
    "collapsed": false
   },
   "outputs": [
    {
     "data": {
      "image/png": "[encoded data removed]",
      "text/plain": [
       "<Figure size 432x288 with 1 Axes>"
      ]
     },
     "metadata": {
      "needs_background": "light"
     },
     "output_type": "display_data"
    }
   ],
   "source": [
    "# Space here to replot your spectrum, this time with major emission lines labeled\n",
    "\n",
    "\n",
    "\n",
    "sky_lines_y = [60., 60, 60, 60]\n",
    "sky_lines_x = [5578.5,5894.6,6301.7,7246.0]\n",
    "\n",
    "\"\"\"\n",
    "### Galaxy Lines\n",
    "abs_lines_y = []\n",
    "abs_lines_x = np.array([3934.777,3969.588,4305.61,5176.7,5895.6,8500.36,8544.4,8664.52])\n",
    "for m in range(0,len(abs_lines)):\n",
    "    abs_lines_y.append(30.)\n",
    "\n",
    "em_lines_y = []\n",
    "em_lines_x = np.array([6549.86,6564.61,6585.27,6718.29,6732.67])\n",
    "for m in range(0,len(em_lines_x)):\n",
    "    em_lines_y.append(35.)\n",
    "\"\"\"\n",
    "\n",
    "### Quasar Lines\n",
    "abs_lines_y = []\n",
    "abs_lines_x = np.array([1215.7, 1238.8, 1242.8, 1260.4, 1334.5, 1393.8, 1402.8, 1548.2, 1550.8, 2026.5,  2344., 2374.,2383., 2600.2, 2796.4, 2803.5, 2853.0])\n",
    "for m in range(0,len(abs_lines_x)):\n",
    "    abs_lines_y.append(6.)\n",
    "\n",
    "em_lines_y = []\n",
    "em_lines_x = np.array([1215.7, 1241., 1398., 1548.2, 2796.])\n",
    "for m in range(0,len(em_lines_x)):\n",
    "    em_lines_y.append(35.)\n",
    "\n",
    "z_qso = 2.95\n",
    "em_lines_x_shifted = em_lines_x*(1.+z_qso)\n",
    "\n",
    "\n",
    "# z_abs = 6069./2796.4 -1.\n",
    "# abs_lines_x_shifted = abs_lines_x*(1.+z_abs)\n",
    "\n",
    "ax = plt.axes()\n",
    "ax.plot(spec.wavelength(), spec.spectrum, '-k', label='spectrum')\n",
    "ax.plot(spec.wavelength(), spec.error, '-', color='r', label='error')\n",
    "# ax.plot(abs_lines_x_shifted, abs_lines_y, '*', label = 'absorption')\n",
    "ax.plot(em_lines_x_shifted, em_lines_y, 'o', label = 'emission')\n",
    "ax.plot(sky_lines_x, sky_lines_y, 'x', label = 'sky')\n",
    "\n",
    "ax.legend(loc='upper right',numpoints=1)\n",
    "\n",
    "ax.set_title('Plate = {0:.0f}, MJD = {1:.0f}, Fiber = {2:.0f}'.format(locals()['plate'],locals()['mjd'],locals()['fiber']))\n",
    "\n",
    "ax.set_xlabel(r'$\\lambda (\\AA)$')\n",
    "ax.set_ylabel('Flux')\n",
    "ax.axis([4400,7000, 0, 40])\n",
    "\n",
    "plt.show()"
   ]
  },
  {
   "cell_type": "markdown",
   "metadata": {},
   "source": [
    "## If you think you have a quasar (a.k.a. QSO) spectrum...\n",
    "\n",
    "You may be able look for patterns of \"metal\" absorption lines from galaxies or intergalactic gas intervening at lower redshift along the sightline to the quasar.  The following link below is an early publication of rest wavelengths for absorption lines typically observed in quasar spectra:\n",
    "\n",
    "- http://articles.adsabs.harvard.edu//full/1979NASCP2111..215B/0000226.000.html\n",
    "\n",
    "Can you make a template to mark the positions of these lines, and redshift them on your plot to match patterns of absorption lines in the quasar spectrum?  The following description of quasar spectra and features of foreground absorption may be useful:\n",
    "\n",
    "- http://w.astro.berkeley.edu/~ay216/08/NOTES/Lecture26-08.pdf\n",
    "\n",
    "<!--#<img src=\"Spectroscopy/QSOALS.png\">-->"
   ]
  },
  {
   "cell_type": "code",
   "execution_count": 32,
   "metadata": {
    "collapsed": true
   },
   "outputs": [
    {
     "data": {
      "image/png": "[encoded data removed]",
      "text/plain": [
       "<Figure size 432x288 with 1 Axes>"
      ]
     },
     "metadata": {
      "needs_background": "light"
     },
     "output_type": "display_data"
    }
   ],
   "source": [
    "# Space here to replot your spectrum, this time with one or more absorption line systems labeled\n",
    "\n",
    "\n",
    "sky_lines_y = [60., 60, 60, 60]\n",
    "sky_lines_x = [5578.5,5894.6,6301.7,7246.0]\n",
    "\n",
    "\"\"\"\n",
    "### Galaxy Lines\n",
    "abs_lines_y = []\n",
    "abs_lines_x = np.array([3934.777,3969.588,4305.61,5176.7,5895.6,8500.36,8544.4,8664.52])\n",
    "for m in range(0,len(abs_lines)):\n",
    "    abs_lines_y.append(30.)\n",
    "\n",
    "em_lines_y = []\n",
    "em_lines_x = np.array([6549.86,6564.61,6585.27,6718.29,6732.67])\n",
    "for m in range(0,len(em_lines_x)):\n",
    "    em_lines_y.append(35.)\n",
    "\"\"\"\n",
    "\n",
    "### Quasar Lines\n",
    "abs_lines_y = []\n",
    "abs_lines_x = np.array([1215.7, 1238.8, 1242.8, 1260.4, 1334.5, 1393.8, 1402.8, 1548.2, 1550.8, 2026.5,  2344., 2374.,2383., 2600.2, 2796.4, 2803.5, 2853.0])\n",
    "for m in range(0,len(abs_lines_x)):\n",
    "    abs_lines_y.append(6.)\n",
    "\n",
    "em_lines_y = []\n",
    "em_lines_x = np.array([1215.7, 1241., 1398., 1548.2, 2796.])\n",
    "for m in range(0,len(em_lines_x)):\n",
    "    em_lines_y.append(35.)\n",
    "\n",
    "# quasar emission line locations\n",
    "z_qso = 2.95\n",
    "em_lines_x_shifted = em_lines_x*(1.+z_qso)\n",
    "\n",
    "# absorption line locations (may be a different redshift than the QSO)\n",
    "z_abs = 6069./1548.2 -1.\n",
    "abs_lines_x_shifted = abs_lines_x*(1.+z_abs)\n",
    "\n",
    "ax = plt.axes()\n",
    "ax.plot(spec.wavelength(), spec.spectrum, '-k', label='spectrum')\n",
    "ax.plot(spec.wavelength(), spec.error, '-', color='r', label='error')\n",
    "ax.plot(abs_lines_x_shifted, abs_lines_y, '*', label = 'absorption')\n",
    "ax.plot(em_lines_x_shifted, em_lines_y, 'o', label = 'emission')\n",
    "ax.plot(sky_lines_x, sky_lines_y, 'x', label = 'sky')\n",
    "\n",
    "ax.legend(numpoints=1)\n",
    "\n",
    "ax.set_title('Plate = {0:.0f}, MJD = {1:.0f}, Fiber = {2:.0f}'.format(locals()['plate'],locals()['mjd'],locals()['fiber']))\n",
    "\n",
    "ax.set_xlabel(r'$\\lambda (\\AA)$')\n",
    "ax.set_ylabel('Flux')\n",
    "ax.axis([5400,6200, 0, 40])\n",
    "\n",
    "plt.show()"
   ]
  },
  {
   "cell_type": "markdown",
   "metadata": {},
   "source": [
    "## If you think you have a stellar spectrum...\n",
    "\n",
    "Can you determine the approximate spectral classification of the star?\n",
    "- http://skyserver.sdss.org/dr1/en/proj/advanced/spectraltypes/lines.asp#spectab\n",
    "    "
   ]
  },
  {
   "cell_type": "code",
   "execution_count": 11,
   "metadata": {
    "collapsed": true
   },
   "outputs": [],
   "source": [
    "# Space here to replot your spectrum, this time with one or more absorption lines labeled"
   ]
  },
  {
   "cell_type": "markdown",
   "metadata": {},
   "source": [
    "## Understanding the SDSS imaging\n",
    "\n",
    "It's useful to understand how SDSS imaging data relates to the spectra for individual objects, since photometric (imaging) data (e.g., colors, magnitudes, and morphologies) were used to choose targets for spectroscopic follow-up.  The link below provides throughput curves for each of the 5 SDSS filters from the original imaging component of the survey:\n",
    "\n",
    "http://classic.sdss.org/dr7/instruments/imager/index.html#filters\n",
    "\n",
    "#### Can you try creating your own version of the filter throughput plot, using the files posted in the above link?"
   ]
  },
  {
   "cell_type": "code",
   "execution_count": 12,
   "metadata": {
    "collapsed": false
   },
   "outputs": [
    {
     "name": "stdout",
     "output_type": "stream",
     "text": [
      "col1  col2   col3   col4   col5 \n",
      "---- ------ ------ ------ ------\n",
      "2980    0.0    0.0    0.0 0.0727\n",
      "3005 0.0001 0.0001 0.0014 0.0992\n",
      "3030 0.0005 0.0005 0.0071 0.1308\n",
      "3055 0.0013 0.0013 0.0127 0.1673\n",
      "3080 0.0026 0.0026 0.0198 0.2075\n",
      "3105 0.0052 0.0052 0.0314  0.247\n",
      "3130 0.0093 0.0093 0.0464 0.2862\n",
      "3155 0.0161 0.0161 0.0629 0.3444\n",
      "3180  0.024  0.024 0.0794  0.392\n",
      "3205 0.0323 0.0323 0.0949   0.43\n",
      " ...    ...    ...    ...    ...\n",
      "3880 0.0413 0.0413 0.0634 0.7088\n",
      "3905 0.0268 0.0268 0.0405 0.7158\n",
      "3930 0.0145 0.0145 0.0216 0.7235\n",
      "3955 0.0075 0.0075  0.011 0.7315\n",
      "3980 0.0042 0.0042 0.0062 0.7393\n",
      "4005 0.0022 0.0022 0.0032 0.7464\n",
      "4030  0.001  0.001 0.0015 0.7526\n",
      "4055 0.0006 0.0006 0.0008 0.7581\n",
      "4080 0.0004 0.0004 0.0006 0.7631\n",
      "4105 0.0002 0.0002 0.0003  0.768\n",
      "4130    0.0    0.0    0.0 0.7727\n",
      "Length = 47 rows\n"
     ]
    }
   ],
   "source": [
    "# Read in a filter file\n",
    "\n",
    "u_data = ascii.read(\"sdss_filters/u.dat\")  \n",
    "print(u_data) \n",
    "\n",
    "\n",
    "u_wave = u_data['col1']\n",
    "u_tp = u_data['col2']\n",
    "\n"
   ]
  },
  {
   "cell_type": "markdown",
   "metadata": {},
   "source": [
    "### Now, can you try converting the spectrum of a star or quasar into its relative filter magnitudes?\n",
    "\n",
    "You may need information from the following page, on converting fluxes to magnitudes, and vice versa:\n",
    "- http://www.sdss.org/dr16/algorithms/fluxcal/#SDSStoflux\n",
    "\n",
    "\n",
    "Do your results agree with the [fiber magnitudes](http://www.sdss.org/dr16/algorithms/magnitudes/) for your object, which you can find in SkyServer?"
   ]
  },
  {
   "cell_type": "markdown",
   "metadata": {},
   "source": [
    "## Quasar spectra, across cosmic time\n",
    "\n",
    "Due to their exceptional luminosities, quasars can be seen beyond z=6.  Try exploring how the features of quasar spectra appear to change, as you move through a large range in redshift.  \n",
    "\n",
    "- Do their emission properties change?  \n",
    "- What do you notice about their absorption properties?  "
   ]
  },
  {
   "cell_type": "code",
   "execution_count": 13,
   "metadata": {
    "collapsed": false
   },
   "outputs": [
    {
     "data": {
      "text/html": [
       "<div>\n",
       "<style scoped>\n",
       "    .dataframe tbody tr th:only-of-type {\n",
       "        vertical-align: middle;\n",
       "    }\n",
       "\n",
       "    .dataframe tbody tr th {\n",
       "        vertical-align: top;\n",
       "    }\n",
       "\n",
       "    .dataframe thead th {\n",
       "        text-align: right;\n",
       "    }\n",
       "</style>\n",
       "<table border=\"1\" class=\"dataframe\">\n",
       "  <thead>\n",
       "    <tr style=\"text-align: right;\">\n",
       "      <th></th>\n",
       "      <th>specObjID</th>\n",
       "      <th>z</th>\n",
       "      <th>survey</th>\n",
       "      <th>plate</th>\n",
       "      <th>fiberID</th>\n",
       "      <th>mjd</th>\n",
       "    </tr>\n",
       "  </thead>\n",
       "  <tbody>\n",
       "    <tr>\n",
       "      <th>0</th>\n",
       "      <td>1950105976388478976</td>\n",
       "      <td>2.054570</td>\n",
       "      <td>sdss</td>\n",
       "      <td>1732</td>\n",
       "      <td>172</td>\n",
       "      <td>53501</td>\n",
       "    </tr>\n",
       "    <tr>\n",
       "      <th>1</th>\n",
       "      <td>1950113672969873408</td>\n",
       "      <td>2.002103</td>\n",
       "      <td>sdss</td>\n",
       "      <td>1732</td>\n",
       "      <td>200</td>\n",
       "      <td>53501</td>\n",
       "    </tr>\n",
       "    <tr>\n",
       "      <th>2</th>\n",
       "      <td>1950115047359408128</td>\n",
       "      <td>2.134022</td>\n",
       "      <td>sdss</td>\n",
       "      <td>1732</td>\n",
       "      <td>205</td>\n",
       "      <td>53501</td>\n",
       "    </tr>\n",
       "    <tr>\n",
       "      <th>3</th>\n",
       "      <td>1951261555492415488</td>\n",
       "      <td>2.241903</td>\n",
       "      <td>sdss</td>\n",
       "      <td>1733</td>\n",
       "      <td>280</td>\n",
       "      <td>53047</td>\n",
       "    </tr>\n",
       "    <tr>\n",
       "      <th>4</th>\n",
       "      <td>1951269252073809920</td>\n",
       "      <td>3.071315</td>\n",
       "      <td>sdss</td>\n",
       "      <td>1733</td>\n",
       "      <td>308</td>\n",
       "      <td>53047</td>\n",
       "    </tr>\n",
       "    <tr>\n",
       "      <th>5</th>\n",
       "      <td>1708109779794159616</td>\n",
       "      <td>2.078754</td>\n",
       "      <td>sdss</td>\n",
       "      <td>1517</td>\n",
       "      <td>435</td>\n",
       "      <td>52934</td>\n",
       "    </tr>\n",
       "    <tr>\n",
       "      <th>6</th>\n",
       "      <td>1708110879305787392</td>\n",
       "      <td>2.101262</td>\n",
       "      <td>sdss</td>\n",
       "      <td>1517</td>\n",
       "      <td>439</td>\n",
       "      <td>52934</td>\n",
       "    </tr>\n",
       "    <tr>\n",
       "      <th>7</th>\n",
       "      <td>1708114452718577664</td>\n",
       "      <td>3.053916</td>\n",
       "      <td>sdss</td>\n",
       "      <td>1517</td>\n",
       "      <td>452</td>\n",
       "      <td>52934</td>\n",
       "    </tr>\n",
       "    <tr>\n",
       "      <th>8</th>\n",
       "      <td>1708119950276716544</td>\n",
       "      <td>2.264243</td>\n",
       "      <td>sdss</td>\n",
       "      <td>1517</td>\n",
       "      <td>472</td>\n",
       "      <td>52934</td>\n",
       "    </tr>\n",
       "    <tr>\n",
       "      <th>9</th>\n",
       "      <td>1952388829570689024</td>\n",
       "      <td>3.249269</td>\n",
       "      <td>sdss</td>\n",
       "      <td>1734</td>\n",
       "      <td>285</td>\n",
       "      <td>53034</td>\n",
       "    </tr>\n",
       "  </tbody>\n",
       "</table>\n",
       "</div>"
      ],
      "text/plain": [
       "             specObjID         z survey  plate  fiberID    mjd\n",
       "0  1950105976388478976  2.054570  sdss   1732   172      53501\n",
       "1  1950113672969873408  2.002103  sdss   1732   200      53501\n",
       "2  1950115047359408128  2.134022  sdss   1732   205      53501\n",
       "3  1951261555492415488  2.241903  sdss   1733   280      53047\n",
       "4  1951269252073809920  3.071315  sdss   1733   308      53047\n",
       "5  1708109779794159616  2.078754  sdss   1517   435      52934\n",
       "6  1708110879305787392  2.101262  sdss   1517   439      52934\n",
       "7  1708114452718577664  3.053916  sdss   1517   452      52934\n",
       "8  1708119950276716544  2.264243  sdss   1517   472      52934\n",
       "9  1952388829570689024  3.249269  sdss   1734   285      53034"
      ]
     },
     "execution_count": 13,
     "metadata": {},
     "output_type": "execute_result"
    }
   ],
   "source": [
    "## If you want, you can use a query to fetch quasars only\n",
    "query=\"\"\"\n",
    "SELECT TOP 10 specObjID, z, survey, plate, fiberID, mjd\n",
    "FROM SpecObj\n",
    "WHERE class = 'QSO' AND zWarning = 0 AND z>2 \n",
    "\"\"\"\n",
    "# send query to CasJobs\n",
    "qsos = CasJobs.executeQuery(query, \"dr16\")\n",
    "qsos\n"
   ]
  },
  {
   "cell_type": "markdown",
   "metadata": {},
   "source": [
    "#### Download some photometric data (u,g,r,i,z magnitudes) for stars and quasars.  \n",
    "\n",
    "- Do they overlap in color-space?\n",
    "- How do they compare for quasars of different redshifts?\n",
    "- Are there certain redshift ranges where quasars stand out more from the \"stellar locus\"?"
   ]
  },
  {
   "cell_type": "code",
   "execution_count": null,
   "metadata": {
    "collapsed": true
   },
   "outputs": [],
   "source": []
  }
 ],
 "metadata": {
  "kernelspec": {
   "display_name": "Python 3",
   "language": "python",
   "name": "python3"
  },
  "language_info": {
   "codemirror_mode": {
    "name": "ipython",
    "version": 3
   },
   "file_extension": ".py",
   "mimetype": "text/x-python",
   "name": "python",
   "nbconvert_exporter": "python",
   "pygments_lexer": "ipython3",
   "version": "3.6.6"
  }
 },
 "nbformat": 4,
 "nbformat_minor": 2
}
