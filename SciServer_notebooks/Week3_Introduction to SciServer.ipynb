{
 "cells": [
  {
   "cell_type": "markdown",
   "metadata": {},
   "source": [
    "# Introduction to the SciServer \n",
    "The SciServer provides a means of interacting with astronomical imaging and spectroscopy data from the [Sloan Digital Sky Survey](http://sdss.org).  \n",
    "\n",
    "The following python notebook gives an example of how you can use [SciServer Compute](http://www.sciserver.org/tools/compute/) for your own astronomy research from anywhere with access to the internet. Because of SciServer's unique capabilities, you can access and analyze the vast SDSS dataset in the cloud without downloading anything (including code!) to your local computer.   All you need in order to get started is a web browser!\n",
    "\n",
    "For this course we will be using the programming language Python 3 to interface with the SciServer, although you can also write scripts using R. A complete tutorial to Python 3 can be accessed [here](https://docs.python.org/3/tutorial/).  A shorter tutorial with some basics is provided below."
   ]
  },
  {
   "cell_type": "markdown",
   "metadata": {},
   "source": [
    "# I. Getting Started with SciServer\n",
    "\n",
    "1. The first thing you need to do is to set up an account with SciServer Compute [here](http://compute.sciserver.org/dashboard/Home/Index).\n",
    "\n",
    "2. Once you are logged in to your account, create a container for your SciServer work.\n",
    "\n",
    "3. Within that container, create a new Python 3 notebook.  This is where you can write and run your analysis.\n",
    "\n",
    "4. Try writing a few lines of code and click the \"play\" button (alternatively, \"Shift+Return\") to run your code:"
   ]
  },
  {
   "cell_type": "markdown",
   "metadata": {},
   "source": [
    "# II. Intro to Python programming\n",
    "\n",
    "#### As some sort of rule, the first thing you ever do when learning a programming language is to print a message saying 'Hello!'...  So let's do that."
   ]
  },
  {
   "cell_type": "code",
   "execution_count": null,
   "metadata": {
    "collapsed": false
   },
   "outputs": [],
   "source": [
    "print (\"Hello SciServer!\")\n",
    "\n",
    "print (\"Clearly, text enclosed in parentheses and double-quotes gets printed\")\n",
    "\n",
    "# anything written after a '#' sign is ignored when you run the code\n",
    "# this is a good way to leave notes about what you're doing as you code"
   ]
  },
  {
   "cell_type": "markdown",
   "metadata": {},
   "source": [
    "#### EXPERIMENT:  What happens if you use single-quotes instead of double-quotes?"
   ]
  },
  {
   "cell_type": "code",
   "execution_count": null,
   "metadata": {
    "collapsed": false
   },
   "outputs": [],
   "source": [
    "print ('a case in which this wouldn\\'t work?')\n",
    "\n",
    "part1 = 'this is the first part '\n",
    "part2 = 'and another part'\n",
    "total = part1+part2\n",
    "print (total)"
   ]
  },
  {
   "cell_type": "markdown",
   "metadata": {},
   "source": [
    "#### Let's make a variable called \"flavor\" and give it a value, say, \"chocolate\":"
   ]
  },
  {
   "cell_type": "code",
   "execution_count": null,
   "metadata": {
    "collapsed": false
   },
   "outputs": [],
   "source": [
    "flavor = 'chocolate'\n",
    "\n",
    "# if you want to print out the value of this variable, don't use quotes.\n",
    "print (flavor)"
   ]
  },
  {
   "cell_type": "markdown",
   "metadata": {},
   "source": [
    "#### EXPERIMENT: What happens if you use quotes to enclose the variable in the print statement above?"
   ]
  },
  {
   "cell_type": "code",
   "execution_count": null,
   "metadata": {
    "collapsed": false
   },
   "outputs": [],
   "source": [
    "print ('flavor')"
   ]
  },
  {
   "cell_type": "markdown",
   "metadata": {},
   "source": [
    "#### You can print statements that include both normal text and variables as follows:"
   ]
  },
  {
   "cell_type": "code",
   "execution_count": null,
   "metadata": {
    "collapsed": false
   },
   "outputs": [],
   "source": [
    "print('I would like to have some {:s} ice cream.'.format(flavor)) # new style for Python 3\n",
    "# {:s} is a placeholder for a string (i.e. text) value\n",
    "# {:f} expects a floating-point (i.e., decimal, non-integer) value\n",
    "# Python 3 removed support for the integer format type, but you can print integers with {:.0f}\n",
    "scoops = 2\n",
    "print('I would like {:.0f} scoops of ice cream.'.format(scoops))"
   ]
  },
  {
   "cell_type": "markdown",
   "metadata": {},
   "source": [
    "#### You can create a list of values of any type as follows:"
   ]
  },
  {
   "cell_type": "code",
   "execution_count": null,
   "metadata": {
    "collapsed": false
   },
   "outputs": [],
   "source": [
    "flavors_instock = ['chocolate', 'vanilla', 'bubblegum', 'rocky_road'] \n",
    "\n",
    "# Note on \"rocky_road\":  your life will be easier in python if you use underscores instead of spaces\n",
    "# BUT you don't have to do that...  'rocky road' will be accepted as a string, too.\n",
    "\n",
    "print (\"We have the following flavors in-stock: \", flavors_instock)\n",
    "print () # this prints a blank line\n",
    "print (\"The total number of flavors is: \", len(flavors_instock)) # len() returns the length of an array\n"
   ]
  },
  {
   "cell_type": "markdown",
   "metadata": {},
   "source": [
    "#### You can then verify whether or not certain things are in your list:"
   ]
  },
  {
   "cell_type": "code",
   "execution_count": null,
   "metadata": {
    "collapsed": false
   },
   "outputs": [],
   "source": [
    "flavor_iwant = 'vanilla'\n",
    "\n",
    "# this statement will check all of the flavors in stock to see if the one you want is listed\n",
    "print('Is {:s} in stock?'.format(flavor_iwant))\n",
    "flavor_iwant in flavors_instock"
   ]
  },
  {
   "cell_type": "code",
   "execution_count": null,
   "metadata": {
    "collapsed": false
   },
   "outputs": [],
   "source": [
    "flavor_ireallywant = 'blue_moon'\n",
    "print('Is {:s} in stock?'.format(flavor_ireallywant))\n",
    "flavor_ireallywant in flavors_instock"
   ]
  },
  {
   "cell_type": "code",
   "execution_count": null,
   "metadata": {
    "collapsed": false
   },
   "outputs": [],
   "source": [
    "flavor_iwant in flavors_instock or flavor_ireallywant in flavors_instock"
   ]
  },
  {
   "cell_type": "markdown",
   "metadata": {},
   "source": [
    "#### Using \"IF\" statements for decision making:\n",
    "\n",
    "Let's say you want to check if the ice cream you really want is in stock before ordering.  You can use the following logic:\n"
   ]
  },
  {
   "cell_type": "code",
   "execution_count": null,
   "metadata": {
    "collapsed": false
   },
   "outputs": [],
   "source": [
    "\"\"\"\n",
    "Note: You can use triple quotes like '#' signs, to leave comments!\n",
    "\n",
    "Here is the structure of an IF loop:\n",
    "\n",
    "if <condition>:\n",
    "    <execute this code>\n",
    "\n",
    "\"\"\"\n",
    "if flavor_ireallywant in flavors_instock:    \n",
    "    # indentation (one hit of the tab key) indicates everything contained in a loop\n",
    "    print(\"I would like to order {:s}\".format(flavor_reallywant))\n",
    "    \n",
    "else:   \n",
    "    \n",
    "    # if the IF statement doesn't hold, then the following loop will run\n",
    "    print(\"I guess I will have {:s}\".format(flavor_iwant))"
   ]
  },
  {
   "cell_type": "markdown",
   "metadata": {},
   "source": [
    "#### EXPERIMENT:  Can you improve the code from the cell above, so that the computer first checks whether vanilla is in-stock before ordering it as a replacement?"
   ]
  },
  {
   "cell_type": "code",
   "execution_count": null,
   "metadata": {
    "collapsed": false
   },
   "outputs": [],
   "source": [
    "if flavor_ireallywant in flavors_instock:    \n",
    "    # indentation (one hit of the tab key) indicates everything contained in a loop\n",
    "    print('I would like to order {:s}'.format(flavor_ireallywant))\n",
    "elif flavor_iwant in flavors_instock:\n",
    "    \n",
    "    # if the IF statement doesn't hold, then the following loop will run\n",
    "    print('I guess I will have {:s}'.format(flavor_iwant))\n",
    "else:\n",
    "    print (\"out of luck!\")\n",
    "    print (\"we have no \", flavor_iwant)"
   ]
  },
  {
   "cell_type": "markdown",
   "metadata": {},
   "source": [
    "#### You might find it useful to use a \"FOR\" loop to run the same command on every item in a list"
   ]
  },
  {
   "cell_type": "code",
   "execution_count": null,
   "metadata": {
    "collapsed": false
   },
   "outputs": [],
   "source": [
    "# let's scroll through the whole list and see if one matches up with our preferred choice...\n",
    "\n",
    "print (\"Let's see what they have...\\n\")\n",
    "\n",
    "gotit = 0 # let's keep a placeholder so we can remember if they have what we're looking for\n",
    "        \n",
    "for flavor in flavors_instock: # this will run through every item in the list, one by one\n",
    "    print () # put a blank space between each flavor\n",
    "    print (flavor)\n",
    "    \n",
    "    if flavor == flavor_ireallywant:\n",
    "        print (\"YAY - they have my absolute favorite flavor!\")\n",
    "        gotit==1  # update the placeholder\n",
    "        \n",
    "    elif flavor == flavor_iwant:  # \"elif\" means \"otherwise, if...\"\n",
    "        print (\"OK - well, at least they have my back-up choice.\")    "
   ]
  },
  {
   "cell_type": "markdown",
   "metadata": {},
   "source": [
    "#### EXPERIMENT:  Can you improve the code in the cell above, so that it automatically alerts you if your backup choice is unavailable?"
   ]
  },
  {
   "cell_type": "code",
   "execution_count": null,
   "metadata": {
    "collapsed": false
   },
   "outputs": [],
   "source": [
    "gotit = 0 # let's keep a placeholder so we can remember if they have what we're looking for\n",
    "if flavor_iwant in flavors_instock:\n",
    "    print (\"My backup flavor is in stock\")\n",
    "\n",
    "print (flavors_instock)\n",
    "counter=-1\n",
    "\n",
    "for flavor in flavors_instock: # this will run through every item in the list, one by one\n",
    "    print () # put a blank space between each flavor\n",
    "    counter+=1\n",
    "    print (flavor, counter)\n",
    "    \n",
    "    if flavor == flavor_ireallywant:\n",
    "        print (\"YAY - they have my absolute favorite flavor!\")\n",
    "        gotit==1  # update the placeholder\n",
    "        \n",
    "    elif flavor == flavor_iwant:  # \"elif\" means \"otherwise, if...\"\n",
    "        print (\"OK - well, at least they have my back-up choice.\")"
   ]
  },
  {
   "cell_type": "markdown",
   "metadata": {},
   "source": [
    "Here is an example of an \"If-Elif-Else\" loop:"
   ]
  },
  {
   "cell_type": "code",
   "execution_count": null,
   "metadata": {
    "collapsed": false
   },
   "outputs": [],
   "source": [
    "dogs = ['willie', 'hootz', 'peso', 'monty', 'juno', 'turkey']\n",
    "\n",
    "if len(dogs) >= 5:\n",
    "    print(\"Holy mackerel, we might as well start a dog hostel!\")\n",
    "elif len(dogs) >= 3:\n",
    "    print(\"Wow, we have a lot of dogs here!\")\n",
    "else:\n",
    "    print(\"Okay, this is a reasonable number of dogs.\")"
   ]
  },
  {
   "cell_type": "markdown",
   "metadata": {},
   "source": [
    "#### One way to keep track of what item you're on, as you move through a list is to add a counter:"
   ]
  },
  {
   "cell_type": "code",
   "execution_count": null,
   "metadata": {
    "collapsed": false
   },
   "outputs": [],
   "source": [
    "counter = -1 # python's counting method start with 0, not 1... so it helps to start thinking of \"-1\" as \"0\"\n",
    "\n",
    "for dog in dogs:\n",
    "    counter+=1  # adds one to the variable 'counter'\n",
    "    print (counter, dog, dogs[counter])  # see what I did there at the end?\n",
    "    if dog == \"hootz\":\n",
    "        hootznum=counter+1\n",
    "print (\"Hootz is dog number \", hootznum)"
   ]
  },
  {
   "cell_type": "markdown",
   "metadata": {},
   "source": [
    "#### Counters can be useful if you want to keep track of parallel lists of the same length that contain related information. For instance, say you wanted to keep track of other information about the ice cream stock -- like what fraction of each container is remaining:"
   ]
  },
  {
   "cell_type": "code",
   "execution_count": null,
   "metadata": {
    "collapsed": false
   },
   "outputs": [],
   "source": [
    "flavors_instock = ['chocolate', 'vanilla', 'bubblegum', 'rocky_road'] \n",
    "flavors_level = [1.0, 0.5, 0.8, 0.1]  # this says only the chocolate is 100% full\n",
    "\n",
    "print (\"Let's see which flavors need to be ordered...\")\n",
    "print ()\n",
    "print (\"Number, Flavor, Level\")\n",
    "print (\" -----------------------------\")\n",
    "\n",
    "counter = -1\n",
    "for flavor in flavors_instock:\n",
    "    counter+=1\n",
    "    print (counter, flavors_instock[counter], flavors_level[counter])\n",
    "    \n",
    "print ()\n",
    "# Or if you want the printing to look a bit nicer...\n",
    "print ()\n",
    "print (\"Number, Flavor, Level\")\n",
    "print (\" -----------------------------\")\n",
    "counter = -1\n",
    "for flavor in flavors_instock:\n",
    "    counter+=1\n",
    "    # you can force the spacing and decimal precision of each printed value\n",
    "    print(\"{0:.0f} {1:12s} {2:3.1f}\".format(counter,flavors_instock[counter],flavors_level[counter]))"
   ]
  },
  {
   "cell_type": "markdown",
   "metadata": {},
   "source": [
    "#### EXPERIMENT:  Can you improve the code above so that it automatically alerts you to which ice cream needs to be re-ordered?\n",
    "\n",
    "It may help to know these operators: \n",
    "\n",
    "equal (==)\n",
    "\n",
    "not equal (!=)\n",
    "\n",
    "greater than (>)\n",
    "\n",
    "greater than or equal to (>=)\n",
    "\n",
    "less than (<)\n",
    "\n",
    "less than or equal to (<=)\n"
   ]
  },
  {
   "cell_type": "code",
   "execution_count": null,
   "metadata": {
    "collapsed": false
   },
   "outputs": [],
   "source": [
    "print ()\n",
    "print (\"Number, Flavor, Level\")\n",
    "print (\" -----------------------------\")\n",
    "counter = -1\n",
    "min_level = 0.25\n",
    "for flavor in flavors_instock:\n",
    "    counter+=1\n",
    "    # you can force the spacing and decimal precision of each printed value\n",
    "    print (\"{0:.0f} {1:12s} {2:3.1f}\".format(counter, flavors_instock[counter], flavors_level[counter]))\n",
    "\n",
    "    if flavors_level[counter]< min_level:\n",
    "        print (\"we need to order more \", flavors_instock[counter])"
   ]
  },
  {
   "cell_type": "markdown",
   "metadata": {},
   "source": [
    "### The previous exercise has probably led you to discover that you can use Python as a calculator!"
   ]
  },
  {
   "cell_type": "code",
   "execution_count": null,
   "metadata": {
    "collapsed": false
   },
   "outputs": [],
   "source": [
    "print (\"Let's try some math...\\n\") # the \\n at the end creates a line break\n",
    "a = 3\n",
    "b = 4\n",
    "c = a+b\n",
    "\n",
    "print (a,b,c)\n",
    "print (c)\n",
    "\n",
    "print ()  # this prints a blank line\n",
    "\n",
    "# these numbers are integers, so we can simply format the print statement placeholder variables as \"{.0f}\"\n",
    "print (\"Here's our calculation:\")\n",
    "print ('{0:.0f} + {1:.0f} = {2:.0f}'.format(a,b,c))"
   ]
  },
  {
   "cell_type": "markdown",
   "metadata": {},
   "source": [
    "#### EXPERIMENT:  Try calculating and printing some decimal ('floating point') numbers."
   ]
  },
  {
   "cell_type": "code",
   "execution_count": null,
   "metadata": {
    "collapsed": false
   },
   "outputs": [],
   "source": [
    "print('{:.7f}'.format(1.41421356237))"
   ]
  },
  {
   "cell_type": "markdown",
   "metadata": {},
   "source": [
    "#### Most mathematical operations don't come automatically loaded into Python.  If you need special operations (e.g., log10, pi, square root), you'll need to import them from python's math library."
   ]
  },
  {
   "cell_type": "code",
   "execution_count": null,
   "metadata": {
    "collapsed": false
   },
   "outputs": [],
   "source": [
    "# import pi from the python math library\n",
    "from math import pi\n",
    "\n",
    "print (\"If this line prints, there were no errors, and pi was successfully imported!\")\n",
    "print (pi)"
   ]
  },
  {
   "cell_type": "code",
   "execution_count": null,
   "metadata": {
    "collapsed": false
   },
   "outputs": [],
   "source": [
    "print (\"Let's print out pi to only 5 decimal places...\")\n",
    "\n",
    "# format the print statement to truncate pi at 5 decimal places in floating point \"%f\" format\n",
    "print (\"{:.5f}\".format(pi))"
   ]
  },
  {
   "cell_type": "code",
   "execution_count": null,
   "metadata": {
    "collapsed": false
   },
   "outputs": [],
   "source": [
    "print (abs(-10))\n",
    "\n",
    "from math import sqrt\n",
    "print (sqrt(10))"
   ]
  },
  {
   "cell_type": "markdown",
   "metadata": {},
   "source": [
    "#### Now for a short tutorial on Numerical Python (NumPy), which is an essential tool for data analysis"
   ]
  },
  {
   "cell_type": "code",
   "execution_count": null,
   "metadata": {
    "collapsed": false
   },
   "outputs": [],
   "source": [
    "# import the numpy module, and give it a nickname \"np\"\n",
    "import numpy as np\n",
    "\n",
    "# The basic structure of the Numpy module is the Numpy Array.\n",
    "# Numpy arrays were invented to mimic the functionality of\n",
    "# MATLAB arrays, and also IDL arrays.\n",
    "\n",
    "empty = np.array([]) # Empty numpy array\n",
    "x = np.arange(5) # Creates an array of 5 intergers, beginning at 0\n",
    "zeros = np.zeros(5) # Array of five zeros \n",
    "noise = np.random.randn(5) # Array of five Gaussian random numbers\n",
    "\n",
    "print ('empty = ', empty)\n",
    "print ('x = ', x)\n",
    "print ('zeros = ', zeros)\n",
    "print ('noise = ', np.round(noise,2))"
   ]
  },
  {
   "cell_type": "code",
   "execution_count": null,
   "metadata": {
    "collapsed": false
   },
   "outputs": [],
   "source": [
    "# By default, arrays add element-by-element, and they have\n",
    "# powerful indexing and masking functionality\n",
    "print ('x + x =', x + x)\n",
    "print ('x + noise =', np.round(x + noise, 2))"
   ]
  },
  {
   "cell_type": "code",
   "execution_count": null,
   "metadata": {
    "collapsed": false
   },
   "outputs": [],
   "source": [
    "# One of the most common tasks is selecting data based\n",
    "# on boolean conditions\n",
    "w = x > 3        \n",
    "x[w] = x[w] + 20 # (Add 20 to all values greater than 3)\n",
    "print ('w = ', w)\n",
    "print ('x = ', x)\n",
    "print ('x[w] = ', x[w])"
   ]
  },
  {
   "cell_type": "code",
   "execution_count": null,
   "metadata": {
    "collapsed": false
   },
   "outputs": [],
   "source": [
    "## Note that Python does not use brackets, braces, or parentheses, \n",
    "# or even \"end\" statements in it control flows.\n",
    "# Everything is controled using indentation.  You are\n",
    "# free to pick your own level of indendation, but always \n",
    "# use 4 spaces.\n",
    "#\n",
    "# For example, \n",
    "# Suppose we want to iterate through a 2D array and check \n",
    "# the value of each element, the code looks like this:\n",
    "\n",
    "noise = np.random.randn(100,100) # 2D image of Gaussian noise\n",
    "detections = 0\n",
    "print (noise.shape[0], noise.shape[1])\n",
    "print (np.sum(noise > 4))\n",
    "for i in range(noise.shape[0]):\n",
    "    for j in range(noise.shape[1]):\n",
    "        if noise[i,j] > 4:\n",
    "            detections += 1\n",
    "            print ('4 Sigma Detection! ', noise[i,j])\n",
    "if detections==0:\n",
    "    print ('No detections, need more observing time.')"
   ]
  },
  {
   "cell_type": "markdown",
   "metadata": {},
   "source": [
    "#### If you need to do the same calculation over and over again, you may want to define a function to do that for you:"
   ]
  },
  {
   "cell_type": "code",
   "execution_count": null,
   "metadata": {
    "collapsed": false
   },
   "outputs": [],
   "source": [
    "# Let's say we want to calculate 2x some number:\n",
    "\n",
    "number = 5\n",
    "print (2*5)\n",
    "\n",
    "# This could also be written as a function\n",
    "\n",
    "def double(x):\n",
    "    return 2*x\n",
    "\n",
    "print (double(5))"
   ]
  },
  {
   "cell_type": "markdown",
   "metadata": {},
   "source": [
    "#### EXPERIMENT:  Create a numpy array of some length, and use a function to print the square root of each number in the array."
   ]
  },
  {
   "cell_type": "code",
   "execution_count": null,
   "metadata": {
    "collapsed": false
   },
   "outputs": [],
   "source": [
    "myarray = [2,6,3,5,7,8]\n",
    "\n",
    "#import numpy as np\n",
    "\n",
    "from numpy import sqrt\n",
    "#from math import sqrt\n",
    "\n",
    "data = np.arange(100)\n",
    "#print (data)\n",
    "\n",
    "# let's define a function\n",
    "def squareroot_hard(data):\n",
    "    \n",
    "    #for d in range(0,len(data)):\n",
    "    #    print (sqrt(data[d]))\n",
    "     \n",
    "    for d in data:\n",
    "        print (sqrt(d))\n",
    "        \n",
    "    return(sqrt(data))\n",
    "\n",
    "squareroot_hard(data)\n",
    "\n",
    "\n",
    "\n",
    "def squareroot_easy(data):\n",
    "    return(sqrt(data))\n",
    "\n",
    "print (squareroot_easy(data))"
   ]
  },
  {
   "cell_type": "markdown",
   "metadata": {},
   "source": [
    "# II. Visualizing Data\n",
    "\n",
    "#### The standard Python library for plotting and visualization is called \"Matplotlib\".  Below are a few examples showing what it can do.  An excellent tutorial can be found here: https://www.labri.fr/perso/nrougier/teaching/matplotlib/\n"
   ]
  },
  {
   "cell_type": "code",
   "execution_count": null,
   "metadata": {
    "collapsed": false
   },
   "outputs": [],
   "source": [
    "# import matplotlib and some of its modules\n",
    "\n",
    "import matplotlib\n",
    "%config InlineBackend.rc = {}\n",
    "from matplotlib import pylab as plt\n",
    "%matplotlib inline\n",
    "print('OK')"
   ]
  },
  {
   "cell_type": "code",
   "execution_count": null,
   "metadata": {
    "collapsed": false
   },
   "outputs": [],
   "source": [
    "\"\"\"\n",
    "Simple demo of a scatter plot.\n",
    "http://matplotlib.org/examples/shapes_and_collections/scatter_demo.html\n",
    "\"\"\"\n",
    "import numpy as np\n",
    "\n",
    "N = 50\n",
    "x = np.random.rand(N)\n",
    "y = np.random.rand(N)\n",
    "colors = np.random.rand(N)\n",
    "area = np.pi * (15 * np.random.rand(N))**2  # 0 to 15 point radii\n",
    "\n",
    "#plt.scatter(x, y, s=area, c=colors, alpha=0.5)\n",
    "plt.scatter(x,y, s = 50,c='cyan', label = 'data')\n",
    "plt.legend()\n",
    "plt.show()"
   ]
  },
  {
   "cell_type": "code",
   "execution_count": null,
   "metadata": {
    "collapsed": false
   },
   "outputs": [],
   "source": [
    "\"\"\"\n",
    "Simple demo of a scatter plot.\n",
    "http://matplotlib.org/examples/lines_bars_and_markers/scatter_with_legend.html\n",
    "\"\"\"\n",
    "\n",
    "import matplotlib.pyplot as plt\n",
    "from numpy.random import rand\n",
    "\n",
    "\n",
    "fig, ax = plt.subplots()\n",
    "for color in ['red', 'green', 'blue']:\n",
    "    n = 75\n",
    "    x, y = rand(2, n)\n",
    "    scale = 200.0 * rand(n)\n",
    "    ax.scatter(x, y, c=color, s=scale, label=color,\n",
    "               alpha=0.3, edgecolors='none')\n",
    "\n",
    "ax.legend()\n",
    "ax.grid(True)\n",
    "\n",
    "plt.show()"
   ]
  },
  {
   "cell_type": "code",
   "execution_count": null,
   "metadata": {
    "collapsed": false
   },
   "outputs": [],
   "source": [
    "\"\"\"\n",
    "Simple demo of a histogram.\n",
    "http://matplotlib.org/examples/frontpage/plot_histogram.html\n",
    "\"\"\"\n",
    "\n",
    "\n",
    "# Let's make a random Gaussian distribution, centered on 0, with a standard deviation of 1\n",
    "mu = 0\n",
    "sigma = 1.\n",
    "samplesize = 1000\n",
    "s = np.random.normal(mu,sigma, samplesize)\n",
    "\n",
    "print (\"Sample size: %i\" % samplesize)\n",
    "print (\"Mean: %.2f\" % np.mean(s))\n",
    "print (\"Median: %.2f\" % np.median(s))\n",
    "\n",
    "# make a histogram of the data\n",
    "count, bins, ignored = plt.hist(s, 30, normed=True, alpha = 0.5)\n",
    "# overlay a Gaussian model, using the mean and standard deviation (sigma)\n",
    "plt.plot(bins, 1/(sigma * np.sqrt(2 * np.pi)) * np.exp( - (bins - mu)**2 / (2 * sigma**2) ), linewidth=2, color='r')\n",
    "# display the data\n",
    "plt.show()\n",
    "\n"
   ]
  },
  {
   "cell_type": "code",
   "execution_count": null,
   "metadata": {
    "collapsed": false
   },
   "outputs": [],
   "source": [
    "\"\"\"\n",
    "Demo of a simple plot with a custom dashed line.\n",
    "\n",
    "\"\"\"\n",
    "import numpy as np\n",
    "import matplotlib.pyplot as plt\n",
    "\n",
    "\n",
    "x = np.linspace(0, 10, 100)  # makes an array of 100 evenly spaced points between 0 and 10\n",
    "\n",
    "fig, ax = plt.subplots()\n",
    "ax.plot(x, np.sin(x), '--', linewidth=2, label='Dashed Line')\n",
    "\n",
    "ax.plot(x, -1 * np.sin(x), '.', color='m', linewidth=0.2, label='Dotted Line')\n",
    "\n",
    "ax.legend(loc='lower right')\n",
    "plt.show()"
   ]
  },
  {
   "cell_type": "code",
   "execution_count": null,
   "metadata": {
    "collapsed": false
   },
   "outputs": [],
   "source": [
    "\"\"\"\n",
    "Plot simulated data and a model curve\n",
    "\n",
    "\"\"\"\n",
    "\n",
    "\n",
    "# let's start by making some data to plot:\n",
    "x = np.linspace(0, 2*np.pi, 50)  # here we are making an array of length 50, ranging from 0-2pi\n",
    "y = np.sin(x) # we will set up another array, which is the sin() of the array X\n",
    "\n",
    "# here we will make another array just like 'Y', but with random scatter\n",
    "y2 = y + 0.1 * np.random.normal(size=x.shape) \n",
    "\n",
    "# here we'll set up the plotting area\n",
    "fig, ax = plt.subplots()\n",
    "\n",
    "# here we'll plot x vs y\n",
    "# formatting information:  'k' = black; '--' = dashed\n",
    "ax.plot(x, y, 'k--')\n",
    "\n",
    "# and we'll plot x vs. y2\n",
    "# formatting information: 'r' = red; 'o' = circles\n",
    "ax.plot(x, y2, 'ro')\n",
    "\n",
    "\"\"\"\n",
    "# If you want to, you can play around with the formats and labels of the ticks and axes\n",
    "ax.set_xlim((0, 2*np.pi))\n",
    "ax.set_xticks([0, np.pi, 2*np.pi])\n",
    "ax.set_xticklabels(['0', '$\\pi$', '2$\\pi$'])\n",
    "ax.set_ylim((-1.5, 1.5))\n",
    "ax.set_yticks([-1, 0, 1])\n",
    "\n",
    "# Only draw spine between the y-ticks\n",
    "ax.spines['left'].set_bounds(-1, 1)\n",
    "# Hide the right and top spines\n",
    "ax.spines['right'].set_visible(False)\n",
    "ax.spines['top'].set_visible(False)\n",
    "# Only show ticks on the left and bottom spines\n",
    "ax.yaxis.set_ticks_position('left')\n",
    "ax.xaxis.set_ticks_position('bottom')\n",
    "\"\"\"\n",
    "\n",
    "plt.show()"
   ]
  },
  {
   "cell_type": "markdown",
   "metadata": {},
   "source": [
    "#### EXPERIMENT: Try chaning the formatting of the points and lines on the plot.  You can find more examples here: http://matplotlib.org/users/screenshots.html"
   ]
  },
  {
   "cell_type": "code",
   "execution_count": null,
   "metadata": {
    "collapsed": true
   },
   "outputs": [],
   "source": []
  },
  {
   "cell_type": "markdown",
   "metadata": {
    "collapsed": true
   },
   "source": [
    "# III. Importing SciServer and other important libraries\n",
    "The SciServer team has written a number of libraries, generally prefixed with \"SciServer\", that assist in various functions. As with all Python libraries, they must be actively imported before being used.\n",
    "The next code block imports those, together with some standard Python libraries helpful for scientific analysis. The code block below applies some settings you may find helpful."
   ]
  },
  {
   "cell_type": "code",
   "execution_count": null,
   "metadata": {
    "collapsed": false
   },
   "outputs": [],
   "source": [
    "# Import Python libraries to work with SciServer (see http://www.sciserver.org/docs/sciscript-python/)\n",
    "\n",
    "import SciServer.CasJobs as CasJobs # query with CasJobs, the primary database for the SDSS\n",
    "import SciServer.SkyServer as SkyServer # show individual objects through SkyServer\n",
    "import SciServer.SciDrive           # read/write to/from SciDrive, cloud-based storage for your work\n",
    "import numpy as np                  # standard Python library for math operations\n",
    "import pandas                       # package for structuring and visualizing data\n",
    "import matplotlib.pyplot as plt     # package for graphing and visualization \n",
    "print('SciServer libraries imported')"
   ]
  },
  {
   "cell_type": "code",
   "execution_count": null,
   "metadata": {
    "collapsed": false
   },
   "outputs": [],
   "source": [
    "# Apply some special settings to the imported libraries\n",
    "\n",
    "# ensures columns get written completely in notebook\n",
    "pandas.set_option('display.max_colwidth', -1)\n",
    "# do *not* show python warnings \n",
    "import warnings\n",
    "warnings.filterwarnings('ignore')\n",
    "print('Settings applied')"
   ]
  },
  {
   "cell_type": "markdown",
   "metadata": {},
   "source": [
    "If you don't receive any errors after running the blocks of code above, you can try playing around with the libraries.  Shown below are a few examples of figures that can be made using Matplotlib.  This [thumbnail gallery](http://matplotlib.org/1.2.1/gallery.html) is useful for finding example code for making just about any kind of plot or visualization you can think of. If you're a fan of [XKCD](http://xkcd.com/), you can also XKCD-ify your plots with the code found [here](http://matplotlib.org/xkcd/gallery.html) :)"
   ]
  },
  {
   "cell_type": "markdown",
   "metadata": {},
   "source": [
    "# IV. Querying an astronomy database (SDSS DR14)\n",
    "The next code block searches the SDSS Data Release 14 database via the CasJobs REST API. The query completes quickly, so it uses CasJobs quick mode.\n",
    "CasJobs also has an asynchronous mode, which will submit job to a queue and will store the results in a table in your MyDB. If your results are very large, it will store the results in MyScratchDB instead.\n",
    "\n",
    "Run the code block below to query DR14. Try changing some of the query parameters at the top of the code block below to see how the output changes.\n",
    "\n",
    "Documentation on the SciServer Python libraries can be found on the SciServer Python documentation site at:\n",
    "http://www.sciserver.org/docs/sciscript-python/\n",
    "\n",
    "An extensive tutorial on how to query the SDSS database can be found here:\n",
    "http://cas.sdss.org/dr14/en/help/howto/search/searchhowtohome.aspx\n"
   ]
  },
  {
   "cell_type": "code",
   "execution_count": null,
   "metadata": {
    "collapsed": false
   },
   "outputs": [],
   "source": [
    "# Find objects in the Sloan Digital Sky Survey's Data Release 14.\n",
    "#\n",
    "# Query the Sloan Digital Sky Serveys' Data Release 14.\n",
    "# For the database schema and documentation see http://skyserver.sdss.org/dr14\n",
    "#\n",
    "# This query finds \"a 4x4 grid of nice-looking galaxies\": \n",
    "#   galaxies in the SDSS database that have a spectrum \n",
    "#   and have a size (petror90_r) larger than 10 arcsec.\n",
    "# \n",
    "# First, store the query in an object called \"query\"\n",
    "query=\"\"\"\n",
    "SELECT TOP 16 p.objId,p.ra,p.dec,p.petror90_r, p.g, p.r\n",
    "  FROM galaxy AS p\n",
    "   JOIN SpecObj AS s ON s.bestobjid = p.objid\n",
    "WHERE p.u BETWEEN 0 AND 19.6\n",
    "  AND p.g BETWEEN 0 AND 17  AND p.petror90_r > 10\n",
    "\"\"\"\n",
    "gals = CasJobs.executeQuery(query, \"dr14\")\n",
    "#gals = gals.set_index('objId')\n",
    "gals"
   ]
  },
  {
   "cell_type": "markdown",
   "metadata": {},
   "source": [
    "#### EXPERIMENT:  What happens if you change the query?\n",
    "\n",
    "Try changing the query in the following ways: \n",
    "- Return 8 matching objects insetad of 16.\n",
    "- Select only nearby galaxies (redshift < 0.05).\n",
    "- Select only galaxies likely to be spirals (with u-r color >= 2.22)\n",
    "- Search for galaxies in SDSS Data Release 10 instead of DR14.\n",
    "\n",
    "What changes do you notice in the table of returned results?\n",
    "\n",
    "Try it in the code block below:"
   ]
  },
  {
   "cell_type": "code",
   "execution_count": null,
   "metadata": {
    "collapsed": false
   },
   "outputs": [],
   "source": [
    "# Find objects in the Sloan Digital Sky Survey's Data Release 14.\n",
    "# First, store the query in an object called \"query\"\n",
    "query=\"\"\"\n",
    "SELECT TOP 16 p.objId,p.ra,p.dec,p.petror90_r, p.g, p.r\n",
    "  FROM galaxy AS p\n",
    "   JOIN SpecObj AS s ON s.bestobjid = p.objid\n",
    "WHERE p.u BETWEEN 0 AND 19.6\n",
    "  AND p.g BETWEEN 0 AND 17\n",
    "  AND p.petror90_r > 10\n",
    "\"\"\"\n",
    "gals = CasJobs.executeQuery(query, \"dr14\")\n",
    "gals = gals.set_index('objId')\n",
    "gals"
   ]
  },
  {
   "cell_type": "markdown",
   "metadata": {},
   "source": [
    "# IV. Visualizing the Data\n",
    "Now that we have run the query and stored the results, we can start analyzing the results.\n",
    "\n",
    "Start by making a simple plot of positions, using the default query from step 3 (select top 16... AND p.petror90_r > 10).\n",
    "\n",
    "What do you see?"
   ]
  },
  {
   "cell_type": "code",
   "execution_count": null,
   "metadata": {
    "collapsed": false
   },
   "outputs": [],
   "source": [
    "# Try making an Ra, Dec scatter plot...\n",
    "plt.scatter(gals['ra'], gals['dec'])\n",
    "plt.show() "
   ]
  },
  {
   "cell_type": "markdown",
   "metadata": {},
   "source": [
    "#### EXPERIMENT: How can you improve the graph?\n",
    "\n",
    "The graph you just made visualizes your data in the simplets possible way: as a scatterplot of (ra/dec) positions with default graphing parameters. But you could make many other possible graphs, and you can always add labels, change axis scales, or adjust many other features of graphs. You practiced making some of these display changes in the sections above. Full details on all the possible graph options are described in the online documentation for the pyplot module at http://matplotlib.org/api/pyplot_summary.html.\n",
    "\n",
    "\n",
    "Try changing the code block below in the following ways. What changes do you notice in the plot?\n",
    "- Add axis labels\n",
    "- Change the scales of both axes to zoom in on the cluster of points around ra = 250\n",
    "- Increase the font size of the numbers and the axis labels\n",
    "- Add a title above the graph\n",
    "- Plot galaxies out to dec = +/-5 (change the display axes as well)\n",
    "\n",
    "Next, try making some other plots. Add any labels and titles that will help the reader interpret your graphs.\n",
    "- Plot a histogram of the g-band magnitudes\n",
    "- Plot a color-color diagram with g on the x-axis and r on the y-axis\n",
    "- Create graphs with 1,000 objects instead of just 16 (note this will require changing the query above and re-running both blocks)\n",
    "\n",
    "Try it in the code block below:"
   ]
  },
  {
   "cell_type": "code",
   "execution_count": null,
   "metadata": {
    "collapsed": false
   },
   "outputs": [],
   "source": [
    "# make scatterplot\n",
    "#plt.scatter(gals['g'],gals['r'])\n",
    "\n",
    "# create an overall figure object (fig) and an \"axis\" object to display this data (ax)\n",
    "fig, ax = plt.subplots()\n",
    "\n",
    "# This graph is associated with the axis object\n",
    "ax.scatter(gals['ra'], gals['dec'])\n",
    "\n",
    "# Add formatting options here. Some may apply to fig and others to ax.\n",
    "\n",
    "# Show the graph will all the options you set.\n",
    "plt.show()"
   ]
  },
  {
   "cell_type": "markdown",
   "metadata": {},
   "source": [
    "# V. Store results in your container for later use\n",
    "The next code block saves the data table \"gals\" as an HD5 file and as a CSV file.\n",
    "\n",
    "To see these files, go back to your iPython notebook dashboard (the page from which you opened this notebook). Make sure you are in the persistent folder. You should see your files there. Click on the file names to preview.\n"
   ]
  },
  {
   "cell_type": "code",
   "execution_count": null,
   "metadata": {
    "collapsed": false
   },
   "outputs": [],
   "source": [
    "# store result as HDF5 file \n",
    "h5store = pandas.HDFStore('GalaxyThumbSample.h5')\n",
    "h5store['galaxies']=gals\n",
    "h5store.close()\n",
    "\n",
    "# store result as CSV file\n",
    "gals.to_csv('GalaxyThumbSample.csv')\n",
    "\n",
    "print (\"Done.\")"
   ]
  },
  {
   "cell_type": "markdown",
   "metadata": {},
   "source": [
    "### Experiment: Saving files\n",
    "Using the code block below (a copy of the one above), try the following:\n",
    "\n",
    "- Change the name of the file\n",
    "- Save the file as tab-separated variable (.tsv) instead of the default comma-separated variable (.csv).\n",
    "\n",
    "Documentation on the Pandas package's DataFrame.to_csv method:\n",
    "http://pandas.pydata.org/pandas-docs/stable/generated/pandas.DataFrame.to_csv.html"
   ]
  },
  {
   "cell_type": "code",
   "execution_count": null,
   "metadata": {
    "collapsed": false
   },
   "outputs": [],
   "source": [
    "# store result as HDF5 file \n",
    "h5store = pandas.HDFStore('GalaxyThumbSample.h5')\n",
    "h5store['galaxies']=gals\n",
    "h5store.close()\n",
    "\n",
    "# store result as CSV file\n",
    "gals.to_csv('GalaxyThumbSample.csv')\n",
    "\n",
    "print (\"Done.\")"
   ]
  },
  {
   "cell_type": "markdown",
   "metadata": {},
   "source": [
    "\n",
    "# VI. Retrieve thumbnail cutouts of galaxies and show them on screen\n",
    "SkyServer has a service that will produce a color image cutout of certain dimensions around a specified position, displayed as a JPG thumbnail.\n",
    "\n",
    "The code below iterates through each galaxy in your results and calls the image cutout generator for each galaxy. The scale of the image depends on the Petrosian radius of the galaxy."
   ]
  },
  {
   "cell_type": "code",
   "execution_count": null,
   "metadata": {
    "collapsed": false
   },
   "outputs": [],
   "source": [
    "# set thumbnail parameters\n",
    "width=200           # image width\n",
    "height=200          # height\n",
    "pixelsize=0.396     # image scale\n",
    "plt.figure(figsize=(15, 15))   # display in a 4x4 grid\n",
    "subPlotNum = 1\n",
    "\n",
    "i = 0\n",
    "nGalaxies = len(gals)\n",
    "for index,gal in gals.iterrows():           # iterate through rows in the DataFrame\n",
    "    i = i + 1\n",
    "    print('Getting image '+str(i)+' of '+str(nGalaxies)+'...')\n",
    "    if (i == nGalaxies):\n",
    "        print('Plotting images...')\n",
    "    scale=2*gal['petror90_r']/pixelsize/width\n",
    "    img= SciServer.SkyServer.getJpegImgCutout(ra=gal['ra'], dec=gal['dec'], width=width, height=height, scale=scale,dataRelease='DR13')\n",
    "    plt.subplot(4,4,subPlotNum)\n",
    "    subPlotNum += 1\n",
    "    plt.imshow(img)                               # show images in grid\n",
    "    plt.title(index)                              # show the object identifier (objId) above the image."
   ]
  },
  {
   "cell_type": "code",
   "execution_count": null,
   "metadata": {
    "collapsed": true
   },
   "outputs": [],
   "source": []
  }
 ],
 "metadata": {
  "kernelspec": {
   "display_name": "Python 3",
   "language": "python",
   "name": "python3"
  },
  "language_info": {
   "codemirror_mode": {
    "name": "ipython",
    "version": 3
   },
   "file_extension": ".py",
   "mimetype": "text/x-python",
   "name": "python",
   "nbconvert_exporter": "python",
   "pygments_lexer": "ipython3",
   "version": "3.5.3"
  }
 },
 "nbformat": 4,
 "nbformat_minor": 0
}
