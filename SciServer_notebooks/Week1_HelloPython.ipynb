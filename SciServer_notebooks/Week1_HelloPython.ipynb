{
 "cells": [
  {
   "cell_type": "markdown",
   "metadata": {},
   "source": [
    "# ASTR 412 - Week2:  \"Hello Python!\"\n",
    "\n",
    "Today we'll learn some basics of Python programming, which we will use next week to interface with the SDSS database."
   ]
  },
  {
   "cell_type": "markdown",
   "metadata": {
    "collapsed": true
   },
   "source": [
    "# Introduction to the SciServer \n",
    "The SciServer provides a means of interacting with astronomical imaging and spectroscopy data from the [Sloan Digital Sky Survey](http://sdss.org).  \n",
    "\n",
    "The following python notebook gives an example of how you can use [SciServer Compute](http://www.sciserver.org/tools/compute/) for your own astronomy research from anywhere with access to the internet. Because of SciServer's unique capabilities, you can access and analyze the vast SDSS dataset in the cloud without downloading anything (including code!) to your local computer.   All you need in order to get started is a web browser!\n",
    "\n",
    "For this course we will be using the programming language Python 3 to interface with the SciServer, although you can also write scripts using R. A complete tutorial to Python 3 can be accessed [here](https://docs.python.org/3/tutorial/).  A shorter tutorial with some basics is provided below.\n",
    "\n",
    "# I. Getting Started with SciServer\n",
    "\n",
    "1. The first thing you need to do is to set up an account with SciServer Compute [here](http://compute.sciserver.org/dashboard/Home/Index).\n",
    "\n",
    "2. Once you are logged in to your account, create a container for your SciServer work.\n",
    "\n",
    "3. Within that container, create a new Python 3 notebook.  This is where you can write and run your analysis.\n",
    "\n",
    "4. Try writing a few lines of code and click the \"play\" button (alternatively, \"Shift+Return\") to run your code:"
   ]
  },
  {
   "cell_type": "markdown",
   "metadata": {},
   "source": [
    "# II. Intro to Python programming\n",
    "\n",
    "#### As some sort of rule, the first thing you ever do when learning a programming language is to print a message saying 'Hello!'...  So let's do that."
   ]
  },
  {
   "cell_type": "code",
   "execution_count": null,
   "metadata": {
    "collapsed": false
   },
   "outputs": [],
   "source": [
    "print (\"Hello SciServer!\")\n",
    "\n",
    "print (\"Clearly, text enclosed in parentheses and double-quotes gets printed\")\n",
    "\n",
    "# anything written after a '#' sign is ignored when you run the code\n",
    "# this is a good way to leave notes about what you're doing as you code"
   ]
  },
  {
   "cell_type": "markdown",
   "metadata": {},
   "source": [
    "#### EXPERIMENT:  What happens if you use single-quotes instead of double-quotes?"
   ]
  },
  {
   "cell_type": "code",
   "execution_count": null,
   "metadata": {
    "collapsed": false
   },
   "outputs": [],
   "source": [
    "print ('a case in which this wouldn\\'t work?')\n",
    "\n",
    "part1 = 'this is the first part '\n",
    "part2 = 'and another part'\n",
    "total = part1+part2\n",
    "print (total)"
   ]
  },
  {
   "cell_type": "markdown",
   "metadata": {},
   "source": [
    "#### Let's make a variable called \"flavor\" and give it a value, say, \"chocolate\":"
   ]
  },
  {
   "cell_type": "code",
   "execution_count": null,
   "metadata": {
    "collapsed": false
   },
   "outputs": [],
   "source": [
    "flavor = 'chocolate'\n",
    "\n",
    "# if you want to print out the value of this variable, don't use quotes.\n",
    "print (flavor)"
   ]
  },
  {
   "cell_type": "markdown",
   "metadata": {},
   "source": [
    "#### EXPERIMENT: What happens if you use quotes to enclose the variable in the print statement above?\n"
   ]
  },
  {
   "cell_type": "code",
   "execution_count": null,
   "metadata": {
    "collapsed": false
   },
   "outputs": [],
   "source": [
    "print ('flavor')"
   ]
  },
  {
   "cell_type": "markdown",
   "metadata": {},
   "source": [
    "#### You can print statements that include both normal text and variables as follows:"
   ]
  },
  {
   "cell_type": "code",
   "execution_count": null,
   "metadata": {
    "collapsed": false
   },
   "outputs": [],
   "source": [
    "print('I would like to have some {:s} ice cream.'.format(flavor)) # new style for Python 3\n",
    "# {:s} is a placeholder for a string (i.e. text) value\n",
    "# {:f} expects a floating-point (i.e., decimal, non-integer) value\n",
    "# Python 3 removed support for the integer format type, but you can print integers with {:.0f}\n",
    "scoops = 2\n",
    "print('I would like {:.0f} scoops of ice cream.'.format(scoops))"
   ]
  },
  {
   "cell_type": "markdown",
   "metadata": {},
   "source": [
    "#### You can create a list of values of any type as follows:"
   ]
  },
  {
   "cell_type": "code",
   "execution_count": null,
   "metadata": {
    "collapsed": false
   },
   "outputs": [],
   "source": [
    "flavors_instock = ['chocolate', 'vanilla', 'bubblegum', 'rocky_road'] \n",
    "\n",
    "# Note on \"rocky_road\":  your life will be easier in python if you use underscores instead of spaces\n",
    "# BUT you don't have to do that...  'rocky road' will be accepted as a string, too.\n",
    "\n",
    "print (\"We have the following flavors in-stock: \", flavors_instock)\n",
    "print () # this prints a blank line\n",
    "print (\"The total number of flavors is: \", len(flavors_instock)) # len() returns the length of an array"
   ]
  },
  {
   "cell_type": "markdown",
   "metadata": {},
   "source": [
    "#### You can then verify whether or not certain things are in your list:\n"
   ]
  },
  {
   "cell_type": "code",
   "execution_count": null,
   "metadata": {
    "collapsed": false
   },
   "outputs": [],
   "source": [
    "flavor_iwant = 'vanilla'\n",
    "\n",
    "# this statement will check all of the flavors in stock to see if the one you want is listed\n",
    "print('Is {:s} in stock?'.format(flavor_iwant))\n",
    "flavor_iwant in flavors_instock"
   ]
  },
  {
   "cell_type": "code",
   "execution_count": null,
   "metadata": {
    "collapsed": false
   },
   "outputs": [],
   "source": [
    "flavor_ireallywant = 'blue_moon'\n",
    "print('Is {:s} in stock?'.format(flavor_ireallywant))\n",
    "flavor_ireallywant in flavors_instock"
   ]
  },
  {
   "cell_type": "code",
   "execution_count": null,
   "metadata": {
    "collapsed": false
   },
   "outputs": [],
   "source": [
    "flavor_iwant in flavors_instock or flavor_ireallywant in flavors_instock"
   ]
  },
  {
   "cell_type": "markdown",
   "metadata": {},
   "source": [
    "#### Using \"IF\" statements for decision making:\n",
    "\n",
    "Let's say you want to check if the ice cream you really want is in stock before ordering.  You can use the following logic:\n"
   ]
  },
  {
   "cell_type": "code",
   "execution_count": null,
   "metadata": {
    "collapsed": false
   },
   "outputs": [],
   "source": [
    "\"\"\"\n",
    "Note: You can use triple quotes like '#' signs, to leave comments!\n",
    "\n",
    "Here is the structure of an IF loop:\n",
    "\n",
    "if <condition>:\n",
    "    <execute this code>\n",
    "\n",
    "\"\"\"\n",
    "if flavor_ireallywant in flavors_instock:    \n",
    "    # indentation (one hit of the tab key) indicates everything contained in a loop\n",
    "    print(\"I would like to order {:s}\".format(flavor_reallywant))\n",
    "    \n",
    "else:   \n",
    "    \n",
    "    # if the IF statement doesn't hold, then the following loop will run\n",
    "    print(\"I guess I will have {:s}\".format(flavor_iwant))\n",
    "    "
   ]
  },
  {
   "cell_type": "markdown",
   "metadata": {},
   "source": [
    "#### EXPERIMENT:  Can you improve the code from the cell above, so that the computer first checks whether vanilla is in-stock before ordering it as a replacement?"
   ]
  },
  {
   "cell_type": "code",
   "execution_count": null,
   "metadata": {
    "collapsed": false
   },
   "outputs": [],
   "source": [
    "if flavor_ireallywant in flavors_instock:    \n",
    "    # indentation (one hit of the tab key) indicates everything contained in a loop\n",
    "    print('I would like to order {:s}'.format(flavor_ireallywant))\n",
    "elif flavor_iwant in flavors_instock:\n",
    "    \n",
    "    # if the IF statement doesn't hold, then the following loop will run\n",
    "    print('I guess I will have {:s}'.format(flavor_iwant))\n",
    "else:\n",
    "    print (\"out of luck!\")\n",
    "    print (\"we have no \", flavor_iwant)"
   ]
  },
  {
   "cell_type": "markdown",
   "metadata": {},
   "source": [
    "#### You might find it useful to use a \"FOR\" loop to run the same command on every item in a list\n"
   ]
  },
  {
   "cell_type": "code",
   "execution_count": null,
   "metadata": {
    "collapsed": false
   },
   "outputs": [],
   "source": [
    "# let's scroll through the whole list and see if one matches up with our preferred choice...\n",
    "\n",
    "print (\"Let's see what they have...\\n\")\n",
    "\n",
    "gotit = 0 # let's keep a placeholder so we can remember if they have what we're looking for\n",
    "        \n",
    "for flavor in flavors_instock: # this will run through every item in the list, one by one\n",
    "    print () # put a blank space between each flavor\n",
    "    print (flavor)\n",
    "    \n",
    "    if flavor == flavor_ireallywant:\n",
    "        print (\"YAY - they have my absolute favorite flavor!\")\n",
    "        gotit==1  # update the placeholder\n",
    "        \n",
    "    elif flavor == flavor_iwant:  # \"elif\" means \"otherwise, if...\"\n",
    "        print (\"OK - well, at least they have my back-up choice.\")    "
   ]
  },
  {
   "cell_type": "markdown",
   "metadata": {},
   "source": [
    "#### EXPERIMENT:  Can you improve the code in the cell above, so that it automatically alerts you if your backup choice is unavailable?"
   ]
  },
  {
   "cell_type": "code",
   "execution_count": null,
   "metadata": {
    "collapsed": false
   },
   "outputs": [],
   "source": [
    "gotit = 0 # let's keep a placeholder so we can remember if they have what we're looking for\n",
    "if flavor_iwant in flavors_instock:\n",
    "    print (\"My backup flavor is in stock\")\n",
    "\n",
    "print (flavors_instock)\n",
    "counter=-1\n",
    "\n",
    "for flavor in flavors_instock: # this will run through every item in the list, one by one\n",
    "    print () # put a blank space between each flavor\n",
    "    counter+=1\n",
    "    print (flavor, counter)\n",
    "    \n",
    "    if flavor == flavor_ireallywant:\n",
    "        print (\"YAY - they have my absolute favorite flavor!\")\n",
    "        gotit==1  # update the placeholder\n",
    "        \n",
    "    elif flavor == flavor_iwant:  # \"elif\" means \"otherwise, if...\"\n",
    "        print (\"OK - well, at least they have my back-up choice.\")"
   ]
  },
  {
   "cell_type": "markdown",
   "metadata": {},
   "source": [
    "#### Here is an example of an \"If-Elif-Else\" loop:\n"
   ]
  },
  {
   "cell_type": "code",
   "execution_count": null,
   "metadata": {
    "collapsed": false
   },
   "outputs": [],
   "source": [
    "dogs = ['willie', 'hootz', 'peso', 'monty', 'juno', 'turkey']\n",
    "\n",
    "if len(dogs) >= 5:\n",
    "    print(\"Holy mackerel, we might as well start a dog hostel!\")\n",
    "elif len(dogs) >= 3:\n",
    "    print(\"Wow, we have a lot of dogs here!\")\n",
    "else:\n",
    "    print(\"Okay, this is a reasonable number of dogs.\")"
   ]
  },
  {
   "cell_type": "markdown",
   "metadata": {},
   "source": [
    "#### One way to keep track of what item you're on, as you move through a list is to add a counter:"
   ]
  },
  {
   "cell_type": "code",
   "execution_count": null,
   "metadata": {
    "collapsed": false
   },
   "outputs": [],
   "source": [
    "counter = -1 # python's counting method start with 0, not 1... so it helps to start thinking of \"-1\" as \"0\"\n",
    "\n",
    "for dog in dogs:\n",
    "    counter+=1  # adds one to the variable 'counter'\n",
    "    print (counter, dog, dogs[counter])  # see what I did there at the end?\n",
    "    if dog == \"hootz\":\n",
    "        hootznum=counter+1\n",
    "print (\"Hootz is dog number \", hootznum)"
   ]
  },
  {
   "cell_type": "markdown",
   "metadata": {},
   "source": [
    "#### Counters can be useful if you want to keep track of parallel lists of the same length that contain related information. For instance, say you wanted to keep track of other information about the ice cream stock -- like what fraction of each container is remaining:"
   ]
  },
  {
   "cell_type": "code",
   "execution_count": null,
   "metadata": {
    "collapsed": false
   },
   "outputs": [],
   "source": [
    "flavors_instock = ['chocolate', 'vanilla', 'bubblegum', 'rocky_road'] \n",
    "flavors_level = [1.0, 0.5, 0.8, 0.1]  # this says only the chocolate is 100% full\n",
    "\n",
    "print (\"Let's see which flavors need to be ordered...\")\n",
    "print ()\n",
    "print (\"Number, Flavor, Level\")\n",
    "print (\" -----------------------------\")\n",
    "\n",
    "counter = -1\n",
    "for flavor in flavors_instock:\n",
    "    counter+=1\n",
    "    print (counter, flavors_instock[counter], flavors_level[counter])\n",
    "    \n",
    "print ()\n",
    "# Or if you want the printing to look a bit nicer...\n",
    "print ()\n",
    "print (\"Number, Flavor, Level\")\n",
    "print (\" -----------------------------\")\n",
    "counter = -1\n",
    "for flavor in flavors_instock:\n",
    "    counter+=1\n",
    "    # you can force the spacing and decimal precision of each printed value\n",
    "    print(\"{0:.0f} {1:12s} {2:3.1f}\".format(counter,flavors_instock[counter],flavors_level[counter]))"
   ]
  },
  {
   "cell_type": "markdown",
   "metadata": {},
   "source": [
    "#### EXPERIMENT: Can you improve the code above so that it automatically alerts you to which ice cream needs to be re-ordered?\n",
    "It may help to know these operators:\n",
    "\n",
    "equal (==)\n",
    "\n",
    "not equal (!=)\n",
    "\n",
    "greater than (>)\n",
    "\n",
    "greater than or equal to (>=)\n",
    "\n",
    "less than (<)\n",
    "\n",
    "less than or equal to (<=)"
   ]
  },
  {
   "cell_type": "code",
   "execution_count": null,
   "metadata": {
    "collapsed": false
   },
   "outputs": [],
   "source": [
    "print ()\n",
    "print (\"Number, Flavor, Level\")\n",
    "print (\" -----------------------------\")\n",
    "counter = -1\n",
    "min_level = 0.25\n",
    "for flavor in flavors_instock:\n",
    "    counter+=1\n",
    "    # you can force the spacing and decimal precision of each printed value\n",
    "    print (\"{0:.0f} {1:12s} {2:3.1f}\".format(counter, flavors_instock[counter], flavors_level[counter]))\n",
    "\n",
    "    if flavors_level[counter]< min_level:\n",
    "        print (\"we need to order more \", flavors_instock[counter])"
   ]
  },
  {
   "cell_type": "markdown",
   "metadata": {},
   "source": [
    "### The previous exercise has probably led you to discover that you can use Python as a calculator!"
   ]
  },
  {
   "cell_type": "code",
   "execution_count": null,
   "metadata": {
    "collapsed": false
   },
   "outputs": [],
   "source": [
    "print (\"Let's try some math...\\n\") # the \\n at the end creates a line break\n",
    "a = 3\n",
    "b = 4\n",
    "c = a+b\n",
    "\n",
    "print (a,b,c)\n",
    "print (c)\n",
    "\n",
    "print ()  # this prints a blank line\n",
    "\n",
    "# these numbers are integers, so we can simply format the print statement placeholder variables as \"{.0f}\"\n",
    "print (\"Here's our calculation:\")\n",
    "print ('{0:.0f} + {1:.0f} = {2:.0f}'.format(a,b,c))"
   ]
  },
  {
   "cell_type": "markdown",
   "metadata": {},
   "source": [
    "#### EXPERIMENT:  Try calculating and printing some decimal ('floating point') numbers.\n"
   ]
  },
  {
   "cell_type": "code",
   "execution_count": null,
   "metadata": {
    "collapsed": false
   },
   "outputs": [],
   "source": [
    "print('{:.7f}'.format(1.41421356237))"
   ]
  },
  {
   "cell_type": "markdown",
   "metadata": {},
   "source": [
    "#### Most mathematical operations don't come automatically loaded into Python.  If you need special operations (e.g., log10, pi, square root), you'll need to import them from python's math library."
   ]
  },
  {
   "cell_type": "code",
   "execution_count": null,
   "metadata": {
    "collapsed": false
   },
   "outputs": [],
   "source": [
    "# import pi from the python math library\n",
    "from math import pi\n",
    "\n",
    "print (\"If this line prints, there were no errors, and pi was successfully imported!\")\n",
    "print (pi)"
   ]
  },
  {
   "cell_type": "code",
   "execution_count": null,
   "metadata": {
    "collapsed": false
   },
   "outputs": [],
   "source": [
    "print (\"Let's print out pi to only 5 decimal places...\")\n",
    "\n",
    "# format the print statement to truncate pi at 5 decimal places in floating point \"%f\" format\n",
    "print (\"{:.5f}\".format(pi))"
   ]
  },
  {
   "cell_type": "code",
   "execution_count": null,
   "metadata": {
    "collapsed": false
   },
   "outputs": [],
   "source": [
    "print (abs(-10))\n",
    "\n",
    "from math import sqrt\n",
    "print (sqrt(10))"
   ]
  },
  {
   "cell_type": "markdown",
   "metadata": {},
   "source": [
    "#### Now for a short tutorial on Numerical Python (NumPy), which is an essential tool for data analysis"
   ]
  },
  {
   "cell_type": "code",
   "execution_count": null,
   "metadata": {
    "collapsed": false
   },
   "outputs": [],
   "source": [
    "# import the numpy module, and give it a nickname \"np\"\n",
    "import numpy as np\n",
    "\n",
    "# The basic structure of the Numpy module is the Numpy Array.\n",
    "# Numpy arrays were invented to mimic the functionality of\n",
    "# MATLAB arrays, and also IDL arrays.\n",
    "\n",
    "empty = np.array([]) # Empty numpy array\n",
    "x = np.arange(5) # Creates an array of 5 intergers, beginning at 0\n",
    "zeros = np.zeros(5) # Array of five zeros \n",
    "noise = np.random.randn(5) # Array of five Gaussian random numbers\n",
    "\n",
    "print ('empty = ', empty)\n",
    "print ('x = ', x)\n",
    "print ('zeros = ', zeros)\n",
    "print ('noise = ', np.round(noise,2))"
   ]
  },
  {
   "cell_type": "code",
   "execution_count": null,
   "metadata": {
    "collapsed": false
   },
   "outputs": [],
   "source": [
    "# By default, arrays add element-by-element, and they have\n",
    "# powerful indexing and masking functionality\n",
    "print ('x + x =', x + x)\n",
    "print ('x + noise =', np.round(x + noise, 2))"
   ]
  },
  {
   "cell_type": "code",
   "execution_count": null,
   "metadata": {
    "collapsed": false
   },
   "outputs": [],
   "source": [
    "# One of the most common tasks is selecting data based\n",
    "# on boolean conditions\n",
    "w = x > 3        \n",
    "x[w] = x[w] + 20 # (Add 20 to all values greater than 3)\n",
    "print ('w = ', w)\n",
    "print ('x = ', x)\n",
    "print ('x[w] = ', x[w])"
   ]
  },
  {
   "cell_type": "code",
   "execution_count": null,
   "metadata": {
    "collapsed": false
   },
   "outputs": [],
   "source": [
    "## Note that Python does not use brackets, braces, or parentheses, \n",
    "# or even \"end\" statements in it control flows.\n",
    "# Everything is controled using indentation.  You are\n",
    "# free to pick your own level of indendation, but always \n",
    "# use 4 spaces.\n",
    "#\n",
    "# For example, \n",
    "# Suppose we want to iterate through a 2D array and check \n",
    "# the value of each element, the code looks like this:\n",
    "\n",
    "noise = np.random.randn(100,100) # 2D image of Gaussian noise\n",
    "detections = 0\n",
    "print (noise.shape[0], noise.shape[1])\n",
    "print (np.sum(noise > 4))\n",
    "for i in range(noise.shape[0]):\n",
    "    for j in range(noise.shape[1]):\n",
    "        if noise[i,j] > 4:\n",
    "            detections += 1\n",
    "            print ('4 Sigma Detection! ', noise[i,j])\n",
    "if detections==0:\n",
    "    print ('No detections, need more observing time.')"
   ]
  },
  {
   "cell_type": "markdown",
   "metadata": {},
   "source": [
    "#### If you need to do the same calculation over and over again, you may want to define a function to do that for you:"
   ]
  },
  {
   "cell_type": "code",
   "execution_count": null,
   "metadata": {
    "collapsed": false
   },
   "outputs": [],
   "source": [
    "# Let's say we want to calculate 2x some number:\n",
    "\n",
    "number = 5\n",
    "print (2*5)\n",
    "\n",
    "# This could also be written as a function\n",
    "\n",
    "def double(x):\n",
    "    return 2*x\n",
    "\n",
    "print (double(5))"
   ]
  },
  {
   "cell_type": "markdown",
   "metadata": {},
   "source": [
    "#### EXPERIMENT:  Create a numpy array of some length, and use a function to print the square root of each number in the array."
   ]
  },
  {
   "cell_type": "code",
   "execution_count": null,
   "metadata": {
    "collapsed": false
   },
   "outputs": [],
   "source": [
    "myarray = [2,6,3,5,7,8]\n",
    "\n",
    "#import numpy as np\n",
    "\n",
    "from numpy import sqrt\n",
    "#from math import sqrt\n",
    "\n",
    "data = np.arange(100)\n",
    "#print (data)\n",
    "\n",
    "# let's define a function\n",
    "def squareroot_hard(data):\n",
    "    \n",
    "    #for d in range(0,len(data)):\n",
    "    #    print (sqrt(data[d]))\n",
    "     \n",
    "    for d in data:\n",
    "        print (sqrt(d))\n",
    "        \n",
    "    return(sqrt(data))\n",
    "\n",
    "squareroot_hard(data)\n",
    "\n",
    "\n",
    "\n",
    "def squareroot_easy(data):\n",
    "    return(sqrt(data))\n",
    "\n",
    "print (squareroot_easy(data))"
   ]
  },
  {
   "cell_type": "code",
   "execution_count": null,
   "metadata": {
    "collapsed": true
   },
   "outputs": [],
   "source": []
  }
 ],
 "metadata": {
  "kernelspec": {
   "display_name": "Python 3",
   "language": "python",
   "name": "python3"
  },
  "language_info": {
   "codemirror_mode": {
    "name": "ipython",
    "version": 3
   },
   "file_extension": ".py",
   "mimetype": "text/x-python",
   "name": "python",
   "nbconvert_exporter": "python",
   "pygments_lexer": "ipython3",
   "version": "3.5.3"
  }
 },
 "nbformat": 4,
 "nbformat_minor": 0
}
